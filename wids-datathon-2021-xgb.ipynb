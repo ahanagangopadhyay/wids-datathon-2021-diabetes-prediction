{
 "cells": [
  {
   "cell_type": "code",
   "execution_count": 91,
   "metadata": {
    "_cell_guid": "b1076dfc-b9ad-4769-8c92-a6c4dae69d19",
    "_uuid": "8f2839f25d086af736a60e9eeb907d3b93b6e0e5"
   },
   "outputs": [
    {
     "name": "stdout",
     "output_type": "stream",
     "text": [
      "/kaggle/input/widsdatathon2021data/SampleSubmissionWiDS2021.csv\n",
      "/kaggle/input/widsdatathon2021data/SolutionTemplateWiDS2021.csv\n",
      "/kaggle/input/widsdatathon2021data/DataDictionaryWiDS2021.csv\n",
      "/kaggle/input/widsdatathon2021data/UnlabeledWiDS2021.csv\n",
      "/kaggle/input/widsdatathon2021data/TrainingWiDS2021.csv\n"
     ]
    }
   ],
   "source": [
    "import numpy as np # linear algebra\n",
    "import pandas as pd # data processing, CSV file I/O (e.g. pd.read_csv)\n",
    "\n",
    "# Input data files are available in the read-only \"../input/\" directory\n",
    "# For example, running this (by clicking run or pressing Shift+Enter) will list all files under the input directory\n",
    "\n",
    "import os\n",
    "for dirname, _, filenames in os.walk('/kaggle/input'):\n",
    "    for filename in filenames:\n",
    "        print(os.path.join(dirname, filename))\n",
    "        \n",
    "import warnings\n",
    "warnings.filterwarnings(\"ignore\")"
   ]
  },
  {
   "cell_type": "code",
   "execution_count": 92,
   "metadata": {},
   "outputs": [
    {
     "data": {
      "text/html": [
       "<div>\n",
       "<style scoped>\n",
       "    .dataframe tbody tr th:only-of-type {\n",
       "        vertical-align: middle;\n",
       "    }\n",
       "\n",
       "    .dataframe tbody tr th {\n",
       "        vertical-align: top;\n",
       "    }\n",
       "\n",
       "    .dataframe thead th {\n",
       "        text-align: right;\n",
       "    }\n",
       "</style>\n",
       "<table border=\"1\" class=\"dataframe\">\n",
       "  <thead>\n",
       "    <tr style=\"text-align: right;\">\n",
       "      <th></th>\n",
       "      <th>Unnamed: 0</th>\n",
       "      <th>encounter_id</th>\n",
       "      <th>hospital_id</th>\n",
       "      <th>age</th>\n",
       "      <th>bmi</th>\n",
       "      <th>elective_surgery</th>\n",
       "      <th>ethnicity</th>\n",
       "      <th>gender</th>\n",
       "      <th>height</th>\n",
       "      <th>hospital_admit_source</th>\n",
       "      <th>...</th>\n",
       "      <th>h1_pao2fio2ratio_max</th>\n",
       "      <th>h1_pao2fio2ratio_min</th>\n",
       "      <th>aids</th>\n",
       "      <th>cirrhosis</th>\n",
       "      <th>hepatic_failure</th>\n",
       "      <th>immunosuppression</th>\n",
       "      <th>leukemia</th>\n",
       "      <th>lymphoma</th>\n",
       "      <th>solid_tumor_with_metastasis</th>\n",
       "      <th>diabetes_mellitus</th>\n",
       "    </tr>\n",
       "  </thead>\n",
       "  <tbody>\n",
       "    <tr>\n",
       "      <th>0</th>\n",
       "      <td>1</td>\n",
       "      <td>214826</td>\n",
       "      <td>118</td>\n",
       "      <td>68.0</td>\n",
       "      <td>22.732803</td>\n",
       "      <td>0</td>\n",
       "      <td>Caucasian</td>\n",
       "      <td>M</td>\n",
       "      <td>180.3</td>\n",
       "      <td>Floor</td>\n",
       "      <td>...</td>\n",
       "      <td>NaN</td>\n",
       "      <td>NaN</td>\n",
       "      <td>0</td>\n",
       "      <td>0</td>\n",
       "      <td>0</td>\n",
       "      <td>0</td>\n",
       "      <td>0</td>\n",
       "      <td>0</td>\n",
       "      <td>0</td>\n",
       "      <td>1</td>\n",
       "    </tr>\n",
       "    <tr>\n",
       "      <th>1</th>\n",
       "      <td>2</td>\n",
       "      <td>246060</td>\n",
       "      <td>81</td>\n",
       "      <td>77.0</td>\n",
       "      <td>27.421875</td>\n",
       "      <td>0</td>\n",
       "      <td>Caucasian</td>\n",
       "      <td>F</td>\n",
       "      <td>160.0</td>\n",
       "      <td>Floor</td>\n",
       "      <td>...</td>\n",
       "      <td>51.0</td>\n",
       "      <td>51.0</td>\n",
       "      <td>0</td>\n",
       "      <td>0</td>\n",
       "      <td>0</td>\n",
       "      <td>0</td>\n",
       "      <td>0</td>\n",
       "      <td>0</td>\n",
       "      <td>0</td>\n",
       "      <td>1</td>\n",
       "    </tr>\n",
       "    <tr>\n",
       "      <th>2</th>\n",
       "      <td>3</td>\n",
       "      <td>276985</td>\n",
       "      <td>118</td>\n",
       "      <td>25.0</td>\n",
       "      <td>31.952749</td>\n",
       "      <td>0</td>\n",
       "      <td>Caucasian</td>\n",
       "      <td>F</td>\n",
       "      <td>172.7</td>\n",
       "      <td>Emergency Department</td>\n",
       "      <td>...</td>\n",
       "      <td>NaN</td>\n",
       "      <td>NaN</td>\n",
       "      <td>0</td>\n",
       "      <td>0</td>\n",
       "      <td>0</td>\n",
       "      <td>0</td>\n",
       "      <td>0</td>\n",
       "      <td>0</td>\n",
       "      <td>0</td>\n",
       "      <td>0</td>\n",
       "    </tr>\n",
       "    <tr>\n",
       "      <th>3</th>\n",
       "      <td>4</td>\n",
       "      <td>262220</td>\n",
       "      <td>118</td>\n",
       "      <td>81.0</td>\n",
       "      <td>22.635548</td>\n",
       "      <td>1</td>\n",
       "      <td>Caucasian</td>\n",
       "      <td>F</td>\n",
       "      <td>165.1</td>\n",
       "      <td>Operating Room</td>\n",
       "      <td>...</td>\n",
       "      <td>337.0</td>\n",
       "      <td>337.0</td>\n",
       "      <td>0</td>\n",
       "      <td>0</td>\n",
       "      <td>0</td>\n",
       "      <td>0</td>\n",
       "      <td>0</td>\n",
       "      <td>0</td>\n",
       "      <td>0</td>\n",
       "      <td>0</td>\n",
       "    </tr>\n",
       "    <tr>\n",
       "      <th>4</th>\n",
       "      <td>5</td>\n",
       "      <td>201746</td>\n",
       "      <td>33</td>\n",
       "      <td>19.0</td>\n",
       "      <td>NaN</td>\n",
       "      <td>0</td>\n",
       "      <td>Caucasian</td>\n",
       "      <td>M</td>\n",
       "      <td>188.0</td>\n",
       "      <td>NaN</td>\n",
       "      <td>...</td>\n",
       "      <td>NaN</td>\n",
       "      <td>NaN</td>\n",
       "      <td>0</td>\n",
       "      <td>0</td>\n",
       "      <td>0</td>\n",
       "      <td>0</td>\n",
       "      <td>0</td>\n",
       "      <td>0</td>\n",
       "      <td>0</td>\n",
       "      <td>0</td>\n",
       "    </tr>\n",
       "  </tbody>\n",
       "</table>\n",
       "<p>5 rows × 181 columns</p>\n",
       "</div>"
      ],
      "text/plain": [
       "   Unnamed: 0  encounter_id  hospital_id   age        bmi  elective_surgery  \\\n",
       "0           1        214826          118  68.0  22.732803                 0   \n",
       "1           2        246060           81  77.0  27.421875                 0   \n",
       "2           3        276985          118  25.0  31.952749                 0   \n",
       "3           4        262220          118  81.0  22.635548                 1   \n",
       "4           5        201746           33  19.0        NaN                 0   \n",
       "\n",
       "   ethnicity gender  height hospital_admit_source  ... h1_pao2fio2ratio_max  \\\n",
       "0  Caucasian      M   180.3                 Floor  ...                  NaN   \n",
       "1  Caucasian      F   160.0                 Floor  ...                 51.0   \n",
       "2  Caucasian      F   172.7  Emergency Department  ...                  NaN   \n",
       "3  Caucasian      F   165.1        Operating Room  ...                337.0   \n",
       "4  Caucasian      M   188.0                   NaN  ...                  NaN   \n",
       "\n",
       "   h1_pao2fio2ratio_min aids cirrhosis  hepatic_failure  immunosuppression  \\\n",
       "0                   NaN    0         0                0                  0   \n",
       "1                  51.0    0         0                0                  0   \n",
       "2                   NaN    0         0                0                  0   \n",
       "3                 337.0    0         0                0                  0   \n",
       "4                   NaN    0         0                0                  0   \n",
       "\n",
       "   leukemia  lymphoma  solid_tumor_with_metastasis  diabetes_mellitus  \n",
       "0         0         0                            0                  1  \n",
       "1         0         0                            0                  1  \n",
       "2         0         0                            0                  0  \n",
       "3         0         0                            0                  0  \n",
       "4         0         0                            0                  0  \n",
       "\n",
       "[5 rows x 181 columns]"
      ]
     },
     "execution_count": 92,
     "metadata": {},
     "output_type": "execute_result"
    }
   ],
   "source": [
    "# Load data\n",
    "train_df = pd.read_csv(\"../input/widsdatathon2021data/TrainingWiDS2021.csv\")\n",
    "test_df = pd.read_csv(\"../input/widsdatathon2021data/UnlabeledWiDS2021.csv\")\n",
    "data_dictionary_df = pd.read_csv(\"../input/widsdatathon2021data/DataDictionaryWiDS2021.csv\")\n",
    "\n",
    "train_df.head()"
   ]
  },
  {
   "cell_type": "markdown",
   "metadata": {},
   "source": [
    "### Drop unnamed first column, encounter_id and hospital_id"
   ]
  },
  {
   "cell_type": "code",
   "execution_count": 93,
   "metadata": {},
   "outputs": [
    {
     "data": {
      "text/html": [
       "<div>\n",
       "<style scoped>\n",
       "    .dataframe tbody tr th:only-of-type {\n",
       "        vertical-align: middle;\n",
       "    }\n",
       "\n",
       "    .dataframe tbody tr th {\n",
       "        vertical-align: top;\n",
       "    }\n",
       "\n",
       "    .dataframe thead th {\n",
       "        text-align: right;\n",
       "    }\n",
       "</style>\n",
       "<table border=\"1\" class=\"dataframe\">\n",
       "  <thead>\n",
       "    <tr style=\"text-align: right;\">\n",
       "      <th></th>\n",
       "      <th>age</th>\n",
       "      <th>bmi</th>\n",
       "      <th>elective_surgery</th>\n",
       "      <th>ethnicity</th>\n",
       "      <th>gender</th>\n",
       "      <th>height</th>\n",
       "      <th>hospital_admit_source</th>\n",
       "      <th>icu_admit_source</th>\n",
       "      <th>icu_id</th>\n",
       "      <th>icu_stay_type</th>\n",
       "      <th>...</th>\n",
       "      <th>h1_pao2fio2ratio_max</th>\n",
       "      <th>h1_pao2fio2ratio_min</th>\n",
       "      <th>aids</th>\n",
       "      <th>cirrhosis</th>\n",
       "      <th>hepatic_failure</th>\n",
       "      <th>immunosuppression</th>\n",
       "      <th>leukemia</th>\n",
       "      <th>lymphoma</th>\n",
       "      <th>solid_tumor_with_metastasis</th>\n",
       "      <th>diabetes_mellitus</th>\n",
       "    </tr>\n",
       "  </thead>\n",
       "  <tbody>\n",
       "    <tr>\n",
       "      <th>0</th>\n",
       "      <td>68.0</td>\n",
       "      <td>22.732803</td>\n",
       "      <td>0</td>\n",
       "      <td>Caucasian</td>\n",
       "      <td>M</td>\n",
       "      <td>180.3</td>\n",
       "      <td>Floor</td>\n",
       "      <td>Floor</td>\n",
       "      <td>92</td>\n",
       "      <td>admit</td>\n",
       "      <td>...</td>\n",
       "      <td>NaN</td>\n",
       "      <td>NaN</td>\n",
       "      <td>0</td>\n",
       "      <td>0</td>\n",
       "      <td>0</td>\n",
       "      <td>0</td>\n",
       "      <td>0</td>\n",
       "      <td>0</td>\n",
       "      <td>0</td>\n",
       "      <td>1</td>\n",
       "    </tr>\n",
       "    <tr>\n",
       "      <th>1</th>\n",
       "      <td>77.0</td>\n",
       "      <td>27.421875</td>\n",
       "      <td>0</td>\n",
       "      <td>Caucasian</td>\n",
       "      <td>F</td>\n",
       "      <td>160.0</td>\n",
       "      <td>Floor</td>\n",
       "      <td>Floor</td>\n",
       "      <td>90</td>\n",
       "      <td>admit</td>\n",
       "      <td>...</td>\n",
       "      <td>51.0</td>\n",
       "      <td>51.0</td>\n",
       "      <td>0</td>\n",
       "      <td>0</td>\n",
       "      <td>0</td>\n",
       "      <td>0</td>\n",
       "      <td>0</td>\n",
       "      <td>0</td>\n",
       "      <td>0</td>\n",
       "      <td>1</td>\n",
       "    </tr>\n",
       "    <tr>\n",
       "      <th>2</th>\n",
       "      <td>25.0</td>\n",
       "      <td>31.952749</td>\n",
       "      <td>0</td>\n",
       "      <td>Caucasian</td>\n",
       "      <td>F</td>\n",
       "      <td>172.7</td>\n",
       "      <td>Emergency Department</td>\n",
       "      <td>Accident &amp; Emergency</td>\n",
       "      <td>93</td>\n",
       "      <td>admit</td>\n",
       "      <td>...</td>\n",
       "      <td>NaN</td>\n",
       "      <td>NaN</td>\n",
       "      <td>0</td>\n",
       "      <td>0</td>\n",
       "      <td>0</td>\n",
       "      <td>0</td>\n",
       "      <td>0</td>\n",
       "      <td>0</td>\n",
       "      <td>0</td>\n",
       "      <td>0</td>\n",
       "    </tr>\n",
       "    <tr>\n",
       "      <th>3</th>\n",
       "      <td>81.0</td>\n",
       "      <td>22.635548</td>\n",
       "      <td>1</td>\n",
       "      <td>Caucasian</td>\n",
       "      <td>F</td>\n",
       "      <td>165.1</td>\n",
       "      <td>Operating Room</td>\n",
       "      <td>Operating Room / Recovery</td>\n",
       "      <td>92</td>\n",
       "      <td>admit</td>\n",
       "      <td>...</td>\n",
       "      <td>337.0</td>\n",
       "      <td>337.0</td>\n",
       "      <td>0</td>\n",
       "      <td>0</td>\n",
       "      <td>0</td>\n",
       "      <td>0</td>\n",
       "      <td>0</td>\n",
       "      <td>0</td>\n",
       "      <td>0</td>\n",
       "      <td>0</td>\n",
       "    </tr>\n",
       "    <tr>\n",
       "      <th>4</th>\n",
       "      <td>19.0</td>\n",
       "      <td>NaN</td>\n",
       "      <td>0</td>\n",
       "      <td>Caucasian</td>\n",
       "      <td>M</td>\n",
       "      <td>188.0</td>\n",
       "      <td>NaN</td>\n",
       "      <td>Accident &amp; Emergency</td>\n",
       "      <td>91</td>\n",
       "      <td>admit</td>\n",
       "      <td>...</td>\n",
       "      <td>NaN</td>\n",
       "      <td>NaN</td>\n",
       "      <td>0</td>\n",
       "      <td>0</td>\n",
       "      <td>0</td>\n",
       "      <td>0</td>\n",
       "      <td>0</td>\n",
       "      <td>0</td>\n",
       "      <td>0</td>\n",
       "      <td>0</td>\n",
       "    </tr>\n",
       "  </tbody>\n",
       "</table>\n",
       "<p>5 rows × 178 columns</p>\n",
       "</div>"
      ],
      "text/plain": [
       "    age        bmi  elective_surgery  ethnicity gender  height  \\\n",
       "0  68.0  22.732803                 0  Caucasian      M   180.3   \n",
       "1  77.0  27.421875                 0  Caucasian      F   160.0   \n",
       "2  25.0  31.952749                 0  Caucasian      F   172.7   \n",
       "3  81.0  22.635548                 1  Caucasian      F   165.1   \n",
       "4  19.0        NaN                 0  Caucasian      M   188.0   \n",
       "\n",
       "  hospital_admit_source           icu_admit_source  icu_id icu_stay_type  ...  \\\n",
       "0                 Floor                      Floor      92         admit  ...   \n",
       "1                 Floor                      Floor      90         admit  ...   \n",
       "2  Emergency Department       Accident & Emergency      93         admit  ...   \n",
       "3        Operating Room  Operating Room / Recovery      92         admit  ...   \n",
       "4                   NaN       Accident & Emergency      91         admit  ...   \n",
       "\n",
       "  h1_pao2fio2ratio_max  h1_pao2fio2ratio_min  aids  cirrhosis  \\\n",
       "0                  NaN                   NaN     0          0   \n",
       "1                 51.0                  51.0     0          0   \n",
       "2                  NaN                   NaN     0          0   \n",
       "3                337.0                 337.0     0          0   \n",
       "4                  NaN                   NaN     0          0   \n",
       "\n",
       "   hepatic_failure  immunosuppression  leukemia  lymphoma  \\\n",
       "0                0                  0         0         0   \n",
       "1                0                  0         0         0   \n",
       "2                0                  0         0         0   \n",
       "3                0                  0         0         0   \n",
       "4                0                  0         0         0   \n",
       "\n",
       "   solid_tumor_with_metastasis  diabetes_mellitus  \n",
       "0                            0                  1  \n",
       "1                            0                  1  \n",
       "2                            0                  0  \n",
       "3                            0                  0  \n",
       "4                            0                  0  \n",
       "\n",
       "[5 rows x 178 columns]"
      ]
     },
     "execution_count": 93,
     "metadata": {},
     "output_type": "execute_result"
    }
   ],
   "source": [
    "train_df.drop(columns=[\"Unnamed: 0\", \"encounter_id\", \"hospital_id\"], axis=1, inplace=True)\n",
    "test_submission = pd.DataFrame(test_df[\"encounter_id\"])\n",
    "test_df.drop(columns=[\"Unnamed: 0\", \"encounter_id\", \"hospital_id\"], axis=1, inplace=True)\n",
    "train_df.head()"
   ]
  },
  {
   "cell_type": "code",
   "execution_count": 94,
   "metadata": {},
   "outputs": [
    {
     "name": "stdout",
     "output_type": "stream",
     "text": [
      "Training dataset shape: (130157, 178)\n",
      "Training dataset shape: (10234, 177)\n"
     ]
    }
   ],
   "source": [
    "print(f'Training dataset shape: {train_df.shape}')\n",
    "print(f'Training dataset shape: {test_df.shape}')"
   ]
  },
  {
   "cell_type": "markdown",
   "metadata": {},
   "source": [
    "### Drop duplicate rows"
   ]
  },
  {
   "cell_type": "code",
   "execution_count": 95,
   "metadata": {},
   "outputs": [
    {
     "name": "stdout",
     "output_type": "stream",
     "text": [
      "8 rows were dropped.\n"
     ]
    }
   ],
   "source": [
    "l0 = train_df.shape[0]\n",
    "train_df.drop_duplicates(inplace=True)\n",
    "l1 = train_df.shape[0]\n",
    "print(f'{l0-l1} rows were dropped.')"
   ]
  },
  {
   "cell_type": "markdown",
   "metadata": {},
   "source": [
    "### Check proportion of missing values in each column "
   ]
  },
  {
   "cell_type": "code",
   "execution_count": 96,
   "metadata": {},
   "outputs": [
    {
     "name": "stdout",
     "output_type": "stream",
     "text": [
      "                   Total    Percent\n",
      "h1_bilirubin_min  119853  92.089067\n",
      "h1_bilirubin_max  119853  92.089067\n",
      "h1_albumin_max    118997  91.431359\n",
      "h1_albumin_min    118997  91.431359\n",
      "h1_lactate_max    118459  91.017987\n",
      "...                  ...        ...\n",
      "d1_sysbp_min         263   0.202076\n",
      "d1_heartrate_max     254   0.195161\n",
      "d1_heartrate_min     254   0.195161\n",
      "icu_admit_source     232   0.178257\n",
      "gender                58   0.044564\n",
      "\n",
      "[160 rows x 2 columns]\n"
     ]
    }
   ],
   "source": [
    "def count_missing_values(dataframe):\n",
    "    \n",
    "    total = dataframe.isnull().sum()\n",
    "    percent = (dataframe.isnull().sum())*100/(len(dataframe))\n",
    "    missing_data = pd.concat([total, percent], axis=1, keys=['Total', 'Percent'])\n",
    "    missing_data = missing_data[missing_data['Total']>0]\n",
    "    missing_data.sort_values('Total', ascending=False, inplace=True)\n",
    "    print(missing_data)\n",
    "    \n",
    "    return \n",
    "\n",
    "count_missing_values(train_df)"
   ]
  },
  {
   "cell_type": "markdown",
   "metadata": {},
   "source": [
    "160 out of 177 features have missing values. The highest proportion of missing values in a column is >92%."
   ]
  },
  {
   "cell_type": "code",
   "execution_count": 97,
   "metadata": {},
   "outputs": [
    {
     "data": {
      "text/plain": [
       "0"
      ]
     },
     "execution_count": 97,
     "metadata": {},
     "output_type": "execute_result"
    }
   ],
   "source": [
    "train_df['diabetes_mellitus'].isnull().sum()"
   ]
  },
  {
   "cell_type": "markdown",
   "metadata": {},
   "source": [
    "The target variable does not have any missing values."
   ]
  },
  {
   "cell_type": "markdown",
   "metadata": {},
   "source": [
    "### Drop columns having more than a certain percentage of missing values"
   ]
  },
  {
   "cell_type": "code",
   "execution_count": 98,
   "metadata": {},
   "outputs": [
    {
     "data": {
      "text/plain": [
       "(130149, 146)"
      ]
     },
     "execution_count": 98,
     "metadata": {},
     "output_type": "execute_result"
    }
   ],
   "source": [
    "thr = 0.8\n",
    "to_drop = train_df.columns[train_df.isnull().sum()>thr*len(train_df)]\n",
    "train_df.drop(columns=to_drop, axis=1, inplace=True)\n",
    "test_df.drop(columns=to_drop, axis=1, inplace=True)\n",
    "train_df.shape"
   ]
  },
  {
   "cell_type": "markdown",
   "metadata": {},
   "source": [
    "### Compute pair-wise correlation between numeric columns and drop one if this is greater than a threshold"
   ]
  },
  {
   "cell_type": "code",
   "execution_count": 99,
   "metadata": {},
   "outputs": [
    {
     "data": {
      "image/png": "[encoded data removed]",
      "text/plain": [
       "<Figure size 720x720 with 2 Axes>"
      ]
     },
     "metadata": {
      "needs_background": "light"
     },
     "output_type": "display_data"
    }
   ],
   "source": [
    "import matplotlib.pyplot as plt\n",
    "\n",
    "f = plt.figure(figsize=(10, 10))\n",
    "plt.matshow(train_df.corr(), fignum=f.number)\n",
    "plt.colorbar()\n",
    "plt.show()"
   ]
  },
  {
   "cell_type": "code",
   "execution_count": 100,
   "metadata": {},
   "outputs": [
    {
     "name": "stdout",
     "output_type": "stream",
     "text": [
      "{'h1_inr_min', 'h1_inr_max', 'paco2_for_ph_apache'}\n"
     ]
    }
   ],
   "source": [
    "def correlation(dataframe, threshold):\n",
    "    to_drop = set() # Set of all the names of deleted columns\n",
    "    corr_matrix = dataframe.corr()\n",
    "    for i in range(len(corr_matrix.columns)):\n",
    "        for j in range(i):\n",
    "            if (corr_matrix.iloc[i, j] >= threshold) and (corr_matrix.columns[j] not in to_drop):\n",
    "                column = corr_matrix.columns[i] # getting the name of column\n",
    "                to_drop.add(column)\n",
    "\n",
    "    return to_drop\n",
    "\n",
    "to_drop = correlation(train_df, 1)\n",
    "print(to_drop)"
   ]
  },
  {
   "cell_type": "code",
   "execution_count": 101,
   "metadata": {},
   "outputs": [
    {
     "data": {
      "text/plain": [
       "(130149, 143)"
      ]
     },
     "execution_count": 101,
     "metadata": {},
     "output_type": "execute_result"
    }
   ],
   "source": [
    "train_df.drop(columns=to_drop, axis=1, inplace=True)\n",
    "test_df.drop(columns=to_drop, axis=1, inplace=True)\n",
    "train_df.shape"
   ]
  },
  {
   "cell_type": "markdown",
   "metadata": {},
   "source": [
    "### Check readmission status"
   ]
  },
  {
   "cell_type": "code",
   "execution_count": 102,
   "metadata": {},
   "outputs": [
    {
     "data": {
      "text/plain": [
       "array([0])"
      ]
     },
     "execution_count": 102,
     "metadata": {},
     "output_type": "execute_result"
    }
   ],
   "source": [
    "train_df['readmission_status'].unique()"
   ]
  },
  {
   "cell_type": "markdown",
   "metadata": {},
   "source": [
    "This column has only one unique value. So we can drop it from the train and test sets."
   ]
  },
  {
   "cell_type": "code",
   "execution_count": 103,
   "metadata": {},
   "outputs": [],
   "source": [
    "train_df.drop(columns=['readmission_status'], axis=1, inplace=True)\n",
    "test_df.drop(columns=['readmission_status'], axis=1, inplace=True)"
   ]
  },
  {
   "cell_type": "markdown",
   "metadata": {},
   "source": [
    "### Separate categorical and numerical features"
   ]
  },
  {
   "cell_type": "code",
   "execution_count": 104,
   "metadata": {},
   "outputs": [
    {
     "name": "stdout",
     "output_type": "stream",
     "text": [
      "['ethnicity', 'gender', 'hospital_admit_source', 'icu_admit_source', 'icu_stay_type', 'icu_type']\n"
     ]
    }
   ],
   "source": [
    "cat_columns = train_df.dtypes[train_df.dtypes == \"object\"].index.tolist()\n",
    "numerical_columns = train_df.dtypes[train_df.dtypes != \"object\"].index.tolist()\n",
    "numerical_columns.remove('diabetes_mellitus')\n",
    "print(cat_columns)"
   ]
  },
  {
   "cell_type": "markdown",
   "metadata": {},
   "source": [
    "### Impute missing categorical features"
   ]
  },
  {
   "cell_type": "code",
   "execution_count": 105,
   "metadata": {},
   "outputs": [
    {
     "data": {
      "text/plain": [
       "ethnicity                 1579\n",
       "gender                      58\n",
       "hospital_admit_source    33190\n",
       "icu_admit_source           232\n",
       "icu_stay_type                0\n",
       "icu_type                     0\n",
       "dtype: int64"
      ]
     },
     "execution_count": 105,
     "metadata": {},
     "output_type": "execute_result"
    }
   ],
   "source": [
    "train_df[cat_columns].isnull().sum()"
   ]
  },
  {
   "cell_type": "code",
   "execution_count": 106,
   "metadata": {},
   "outputs": [],
   "source": [
    "train_df['ethnicity'] = train_df['ethnicity'].fillna('Unknown')\n",
    "train_df['gender'] = train_df['gender'].fillna('Unknown')\n",
    "train_df['icu_admit_source'] = train_df['icu_admit_source'].fillna('Unknown')\n",
    "train_df['hospital_admit_source'] = train_df['hospital_admit_source'].fillna('Unknown')\n",
    "\n",
    "test_df['ethnicity'] = test_df['ethnicity'].fillna('Unknown')\n",
    "test_df['gender'] = test_df['gender'].fillna('Unknown')\n",
    "test_df['icu_admit_source'] = test_df['icu_admit_source'].fillna('Unknown')\n",
    "test_df['hospital_admit_source'] = test_df['hospital_admit_source'].fillna('Unknown')"
   ]
  },
  {
   "cell_type": "code",
   "execution_count": 107,
   "metadata": {},
   "outputs": [],
   "source": [
    "#train_df[cat_columns] = train_df[cat_columns].fillna(train_df[cat_columns].mode().loc[0])\n",
    "#test_df[cat_columns] = test_df[cat_columns].fillna(train_df[cat_columns].mode().loc[0])"
   ]
  },
  {
   "cell_type": "markdown",
   "metadata": {},
   "source": [
    "### Impute missing numerical features"
   ]
  },
  {
   "cell_type": "markdown",
   "metadata": {},
   "source": [
    "Impute height and weight according to gender"
   ]
  },
  {
   "cell_type": "code",
   "execution_count": 108,
   "metadata": {},
   "outputs": [],
   "source": [
    "avg_female_height = train_df[train_df.gender == 'F'].height.mean(skipna = True)\n",
    "avg_male_height = train_df[train_df.gender == 'M'].height.mean(skipna = True)\n",
    "avg_female_weight = train_df[train_df.gender == 'F'].weight.mean(skipna = True)\n",
    "avg_male_weight = train_df[train_df.gender == 'M'].weight.mean(skipna = True)\n",
    "\n",
    "avg_pop_height = 0.5*(avg_female_height + avg_male_height)\n",
    "avg_pop_weight = 0.5*(avg_female_weight + avg_male_weight)"
   ]
  },
  {
   "cell_type": "code",
   "execution_count": 109,
   "metadata": {},
   "outputs": [],
   "source": [
    "train_df[\"height\"] = np.where((train_df.height.isna() & (train_df.gender == 'F')), \n",
    "                              avg_female_height, train_df[\"height\"])\n",
    "train_df[\"height\"] = np.where((train_df.height.isna() & (train_df.gender == 'M')), \n",
    "                              avg_male_height, train_df[\"height\"])\n",
    "train_df[\"height\"] = np.where((train_df.height.isna() & (train_df.gender.isna())), \n",
    "                              avg_pop_height, train_df[\"height\"])\n",
    "\n",
    "train_df[\"weight\"] = np.where((train_df.weight.isna() & (train_df.gender == 'F')), \n",
    "                              avg_female_weight, train_df[\"weight\"])\n",
    "train_df[\"weight\"] = np.where((train_df.weight.isna() & (train_df.gender == 'M')), \n",
    "                              avg_male_weight, train_df[\"weight\"])\n",
    "train_df[\"weight\"] = np.where((train_df.weight.isna() & (train_df.gender.isna())), \n",
    "                              avg_pop_weight, train_df[\"weight\"])"
   ]
  },
  {
   "cell_type": "code",
   "execution_count": 110,
   "metadata": {},
   "outputs": [],
   "source": [
    "test_df[\"height\"] = np.where((test_df.height.isna() & (test_df.gender == 'F')), \n",
    "                              avg_female_height, test_df[\"height\"])\n",
    "test_df[\"height\"] = np.where((test_df.height.isna() & (test_df.gender == 'M')), \n",
    "                              avg_male_height, test_df[\"height\"])\n",
    "test_df[\"height\"] = np.where((test_df.height.isna() & (test_df.gender.isna())), \n",
    "                              avg_pop_height, test_df[\"height\"])\n",
    "\n",
    "test_df[\"weight\"] = np.where((test_df.weight.isna() & (test_df.gender == 'F')), \n",
    "                              avg_female_weight, test_df[\"weight\"])\n",
    "test_df[\"weight\"] = np.where((test_df.weight.isna() & (test_df.gender == 'M')), \n",
    "                              avg_male_weight, test_df[\"weight\"])\n",
    "test_df[\"weight\"] = np.where((test_df.weight.isna() & (test_df.gender.isna())), \n",
    "                              avg_pop_weight, test_df[\"weight\"])"
   ]
  },
  {
   "cell_type": "markdown",
   "metadata": {},
   "source": [
    "Impute missing blood oxygen levels with standard values"
   ]
  },
  {
   "cell_type": "code",
   "execution_count": 111,
   "metadata": {},
   "outputs": [],
   "source": [
    "train_df['d1_spo2_max'] = train_df['d1_spo2_max'].fillna(95)\n",
    "train_df['d1_spo2_min'] = train_df['d1_spo2_min'].fillna(90)\n",
    "\n",
    "test_df['d1_spo2_max'] = test_df['d1_spo2_max'].fillna(95)\n",
    "test_df['d1_spo2_min'] = test_df['d1_spo2_min'].fillna(90)"
   ]
  },
  {
   "cell_type": "markdown",
   "metadata": {},
   "source": [
    "Impute remaining missing numerical values with medians of the respective columns"
   ]
  },
  {
   "cell_type": "code",
   "execution_count": 112,
   "metadata": {},
   "outputs": [],
   "source": [
    "train_df[numerical_columns] = train_df[numerical_columns].fillna(train_df[numerical_columns].median())\n",
    "test_df[numerical_columns] = test_df[numerical_columns].fillna(train_df[numerical_columns].median())"
   ]
  },
  {
   "cell_type": "markdown",
   "metadata": {},
   "source": [
    "Calculate missing BMI from height and weight"
   ]
  },
  {
   "cell_type": "code",
   "execution_count": 113,
   "metadata": {},
   "outputs": [],
   "source": [
    "train_df['bmi'] = (train_df['weight']*10000)/(train_df['height']**2)\n",
    "test_df['bmi'] = (test_df['weight']*10000)/(test_df['height']**2)"
   ]
  },
  {
   "cell_type": "markdown",
   "metadata": {},
   "source": [
    "### New features"
   ]
  },
  {
   "cell_type": "code",
   "execution_count": 114,
   "metadata": {},
   "outputs": [],
   "source": [
    "#train_df['agi'] = train_df['weight']/train_df['age']\n",
    "#test_df['agi'] = test_df['weight']/test_df['age']\n",
    "\n",
    "#train_df['abmi'] = train_df['age']/train_df['bmi']#\n",
    "#test_df['abmi'] = test_df['age']/test_df['bmi']"
   ]
  },
  {
   "cell_type": "markdown",
   "metadata": {},
   "source": [
    "### Separate features and labels"
   ]
  },
  {
   "cell_type": "code",
   "execution_count": 115,
   "metadata": {},
   "outputs": [],
   "source": [
    "train_y = train_df[\"diabetes_mellitus\"]\n",
    "train_df.drop(\"diabetes_mellitus\", axis=1, inplace=True)"
   ]
  },
  {
   "cell_type": "markdown",
   "metadata": {},
   "source": [
    "### One-hot encoding of categorical columns"
   ]
  },
  {
   "cell_type": "code",
   "execution_count": 116,
   "metadata": {},
   "outputs": [],
   "source": [
    "for column in cat_columns:\n",
    "    # Training data\n",
    "    dummies = pd.get_dummies(train_df[column], prefix=column, drop_first=True)\n",
    "    train_df = pd.concat([train_df, dummies],axis=1)\n",
    "    train_df.drop(column, axis=1, inplace=True)\n",
    "    # Test data\n",
    "    dummies = pd.get_dummies(test_df[column], prefix=column, drop_first=True)\n",
    "    test_df = pd.concat([test_df, dummies],axis=1)\n",
    "    test_df.drop(column, axis=1, inplace=True)\n",
    "    \n",
    "# Get missing columns in the training test\n",
    "missing_cols = set(train_df.columns) - set(test_df.columns)\n",
    "# Add a missing column in test set with default value equal to 0\n",
    "for c in missing_cols:\n",
    "    test_df[c] = 0\n",
    "    \n",
    "# Ensure the order of columns in the test set is in the same order than in train set\n",
    "test_df = test_df[train_df.columns]"
   ]
  },
  {
   "cell_type": "code",
   "execution_count": 117,
   "metadata": {},
   "outputs": [
    {
     "data": {
      "text/plain": [
       "(130149, 172)"
      ]
     },
     "execution_count": 117,
     "metadata": {},
     "output_type": "execute_result"
    }
   ],
   "source": [
    "train_df.shape"
   ]
  },
  {
   "cell_type": "markdown",
   "metadata": {},
   "source": [
    "### SMOTE on training data"
   ]
  },
  {
   "cell_type": "code",
   "execution_count": 118,
   "metadata": {},
   "outputs": [
    {
     "name": "stdout",
     "output_type": "stream",
     "text": [
      "['elective_surgery', 'icu_id', 'apache_post_operative', 'arf_apache', 'intubated_apache', 'ventilated_apache', 'aids', 'cirrhosis', 'hepatic_failure', 'immunosuppression', 'leukemia', 'lymphoma', 'solid_tumor_with_metastasis']\n"
     ]
    }
   ],
   "source": [
    "cat_cols = []\n",
    "cat_cols_index = []\n",
    "for i, col in enumerate(train_df.columns):\n",
    "    if train_df[col].dtypes == np.object or train_df[col].dtypes == np.int64:\n",
    "        cat_cols.append(col)\n",
    "        cat_cols_index.append(i)\n",
    "        \n",
    "print(cat_cols)"
   ]
  },
  {
   "cell_type": "code",
   "execution_count": 119,
   "metadata": {},
   "outputs": [],
   "source": [
    "#from imblearn.over_sampling import SMOTENC\n",
    "\n",
    "#smote = SMOTENC(categorical_features = cat_cols_index, random_state = 7, sampling_strategy = 0.6)\n",
    "\n",
    "## Transform the dataset\n",
    "#train_df, train_y = smote.fit_resample(train_df, train_y)\n",
    "#train_df.shape"
   ]
  },
  {
   "cell_type": "markdown",
   "metadata": {},
   "source": [
    "### XGBoost Hyper-parameter tuning "
   ]
  },
  {
   "cell_type": "code",
   "execution_count": 121,
   "metadata": {},
   "outputs": [],
   "source": [
    "#from xgboost import XGBClassifier \n",
    "#from sklearn.model_selection import GridSearchCV\n",
    "\n",
    "#xgboost = XGBClassifier(tree_method='gpu_hist', subsample=0.5, colsample_bytree=0.5, eval_metric='auc')\n",
    "#params = {\n",
    "#         'learning_rate': [0.1, 0.05],\n",
    "#         'n_estimators': [100, 500],\n",
    "#         'max_depth': [3, 6],\n",
    "#          }\n",
    "#clf = GridSearchCV(xgboost, params, scoring='roc_auc', cv=5, verbose=0)\n",
    "#best_xgboost = clf.fit(train_df, train_y)\n",
    "#print('Best learning rate:', best_xgboost.best_estimator_.get_params()['learning_rate'])\n",
    "#print('Best number of estimators:', best_xgboost.best_estimator_.get_params()['n_estimators'])\n",
    "#print('Best maximum depth:', best_xgboost.best_estimator_.get_params()['max_depth'])\n",
    "#print('Best subsample:', best_xgboost.best_estimator_.get_params()['subsample'])\n",
    "#print('Best colsample by tree:', best_xgboost.best_estimator_.get_params()['colsample_bytree'])"
   ]
  },
  {
   "cell_type": "code",
   "execution_count": 126,
   "metadata": {},
   "outputs": [],
   "source": [
    "from sklearn.model_selection import KFold, StratifiedKFold\n",
    "from xgboost import XGBClassifier\n",
    "from sklearn.metrics import roc_auc_score\n",
    "\n",
    "K_FOLDS = 5\n",
    "\n",
    "def train_model_kfold_cv(X, y, X_test):\n",
    "    \n",
    "    skf = StratifiedKFold(n_splits = K_FOLDS, random_state = 1, shuffle = True)\n",
    "    index = 0\n",
    "    model_predict = np.zeros((len(X_test), 2))\n",
    "    \n",
    "    for train, val in skf.split(X, y):\n",
    "        \n",
    "        X_train_cv, X_val_cv = X.values[train], X.values[val]\n",
    "        y_train_cv, y_val_cv = y.values[train], y.values[val]\n",
    "        \n",
    "        xgboost = XGBClassifier(learning_rate=0.1, n_estimators=500, tree_method='gpu_hist', eval_metric='auc')\n",
    "        \n",
    "        print('--------------------------------------------------')\n",
    "        print(f'Training on fold {index+1}')\n",
    "        print('--------------------------------------------------')\n",
    "        \n",
    "        xgboost.fit(X_train_cv, y_train_cv)\n",
    "        y_preds = xgboost.predict(X_val_cv)\n",
    "        score = roc_auc_score(y_preds, y_val_cv)\n",
    "        \n",
    "        print(f'AUROC score on fold {index+1}: {score}')\n",
    "        \n",
    "        prediction = xgboost.predict_proba(X_test.values[:])\n",
    "        model_predict+= prediction/K_FOLDS\n",
    "        index += 1\n",
    "        \n",
    "    return model_predict    "
   ]
  },
  {
   "cell_type": "code",
   "execution_count": 127,
   "metadata": {},
   "outputs": [
    {
     "name": "stdout",
     "output_type": "stream",
     "text": [
      "--------------------------------------------------\n",
      "Training on fold 1\n",
      "--------------------------------------------------\n",
      "AUROC score on fold 1: 0.75387987696682\n",
      "--------------------------------------------------\n",
      "Training on fold 2\n",
      "--------------------------------------------------\n",
      "AUROC score on fold 2: 0.7534745738901032\n",
      "--------------------------------------------------\n",
      "Training on fold 3\n",
      "--------------------------------------------------\n",
      "AUROC score on fold 3: 0.7521688475813686\n",
      "--------------------------------------------------\n",
      "Training on fold 4\n",
      "--------------------------------------------------\n",
      "AUROC score on fold 4: 0.7571380243804193\n",
      "--------------------------------------------------\n",
      "Training on fold 5\n",
      "--------------------------------------------------\n",
      "AUROC score on fold 5: 0.7643198579748354\n"
     ]
    }
   ],
   "source": [
    "predictions = train_model_kfold_cv(train_df, train_y, test_df)"
   ]
  },
  {
   "cell_type": "code",
   "execution_count": 128,
   "metadata": {},
   "outputs": [
    {
     "data": {
      "text/html": [
       "<div>\n",
       "<style scoped>\n",
       "    .dataframe tbody tr th:only-of-type {\n",
       "        vertical-align: middle;\n",
       "    }\n",
       "\n",
       "    .dataframe tbody tr th {\n",
       "        vertical-align: top;\n",
       "    }\n",
       "\n",
       "    .dataframe thead th {\n",
       "        text-align: right;\n",
       "    }\n",
       "</style>\n",
       "<table border=\"1\" class=\"dataframe\">\n",
       "  <thead>\n",
       "    <tr style=\"text-align: right;\">\n",
       "      <th></th>\n",
       "      <th>encounter_id</th>\n",
       "      <th>diabetes_mellitus</th>\n",
       "    </tr>\n",
       "  </thead>\n",
       "  <tbody>\n",
       "    <tr>\n",
       "      <th>0</th>\n",
       "      <td>144740</td>\n",
       "      <td>0.058391</td>\n",
       "    </tr>\n",
       "    <tr>\n",
       "      <th>1</th>\n",
       "      <td>141990</td>\n",
       "      <td>0.084536</td>\n",
       "    </tr>\n",
       "    <tr>\n",
       "      <th>2</th>\n",
       "      <td>142038</td>\n",
       "      <td>0.095640</td>\n",
       "    </tr>\n",
       "    <tr>\n",
       "      <th>3</th>\n",
       "      <td>138628</td>\n",
       "      <td>0.037514</td>\n",
       "    </tr>\n",
       "    <tr>\n",
       "      <th>4</th>\n",
       "      <td>141682</td>\n",
       "      <td>0.441355</td>\n",
       "    </tr>\n",
       "    <tr>\n",
       "      <th>...</th>\n",
       "      <td>...</td>\n",
       "      <td>...</td>\n",
       "    </tr>\n",
       "    <tr>\n",
       "      <th>10229</th>\n",
       "      <td>143750</td>\n",
       "      <td>0.073678</td>\n",
       "    </tr>\n",
       "    <tr>\n",
       "      <th>10230</th>\n",
       "      <td>143813</td>\n",
       "      <td>0.067194</td>\n",
       "    </tr>\n",
       "    <tr>\n",
       "      <th>10231</th>\n",
       "      <td>137126</td>\n",
       "      <td>0.034888</td>\n",
       "    </tr>\n",
       "    <tr>\n",
       "      <th>10232</th>\n",
       "      <td>135652</td>\n",
       "      <td>0.002488</td>\n",
       "    </tr>\n",
       "    <tr>\n",
       "      <th>10233</th>\n",
       "      <td>136852</td>\n",
       "      <td>0.002216</td>\n",
       "    </tr>\n",
       "  </tbody>\n",
       "</table>\n",
       "<p>10234 rows × 2 columns</p>\n",
       "</div>"
      ],
      "text/plain": [
       "       encounter_id  diabetes_mellitus\n",
       "0            144740           0.058391\n",
       "1            141990           0.084536\n",
       "2            142038           0.095640\n",
       "3            138628           0.037514\n",
       "4            141682           0.441355\n",
       "...             ...                ...\n",
       "10229        143750           0.073678\n",
       "10230        143813           0.067194\n",
       "10231        137126           0.034888\n",
       "10232        135652           0.002488\n",
       "10233        136852           0.002216\n",
       "\n",
       "[10234 rows x 2 columns]"
      ]
     },
     "execution_count": 128,
     "metadata": {},
     "output_type": "execute_result"
    }
   ],
   "source": [
    "test_submission[\"diabetes_mellitus\"] = predictions[:, 1]\n",
    "test_submission"
   ]
  },
  {
   "cell_type": "code",
   "execution_count": 129,
   "metadata": {},
   "outputs": [],
   "source": [
    "test_submission.to_csv(\"xgb_v39.csv\",index=False)"
   ]
  },
  {
   "cell_type": "code",
   "execution_count": null,
   "metadata": {},
   "outputs": [],
   "source": []
  }
 ],
 "metadata": {
  "kernelspec": {
   "display_name": "Python 3",
   "language": "python",
   "name": "python3"
  },
  "language_info": {
   "codemirror_mode": {
    "name": "ipython",
    "version": 3
   },
   "file_extension": ".py",
   "mimetype": "text/x-python",
   "name": "python",
   "nbconvert_exporter": "python",
   "pygments_lexer": "ipython3",
   "version": "3.8.5"
  }
 },
 "nbformat": 4,
 "nbformat_minor": 4
}
