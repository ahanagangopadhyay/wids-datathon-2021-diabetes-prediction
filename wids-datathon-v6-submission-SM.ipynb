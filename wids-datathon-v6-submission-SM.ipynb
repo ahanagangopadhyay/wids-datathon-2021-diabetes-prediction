{
 "cells": [
  {
   "cell_type": "code",
   "execution_count": 1,
   "metadata": {
    "_cell_guid": "b1076dfc-b9ad-4769-8c92-a6c4dae69d19",
    "_uuid": "8f2839f25d086af736a60e9eeb907d3b93b6e0e5",
    "execution": {
     "iopub.execute_input": "2021-02-21T19:09:47.546423Z",
     "iopub.status.busy": "2021-02-21T19:09:47.545594Z",
     "iopub.status.idle": "2021-02-21T19:09:48.477316Z",
     "shell.execute_reply": "2021-02-21T19:09:48.477919Z"
    },
    "papermill": {
     "duration": 0.98903,
     "end_time": "2021-02-21T19:09:48.478284",
     "exception": false,
     "start_time": "2021-02-21T19:09:47.489254",
     "status": "completed"
    },
    "tags": []
   },
   "outputs": [
    {
     "name": "stdout",
     "output_type": "stream",
     "text": [
      "/kaggle/input/widsdatathon2021/SampleSubmissionWiDS2021.csv\n",
      "/kaggle/input/widsdatathon2021/SolutionTemplateWiDS2021.csv\n",
      "/kaggle/input/widsdatathon2021/DataDictionaryWiDS2021.csv\n",
      "/kaggle/input/widsdatathon2021/UnlabeledWiDS2021.csv\n",
      "/kaggle/input/widsdatathon2021/TrainingWiDS2021.csv\n"
     ]
    }
   ],
   "source": [
    "# This Python 3 environment comes with many helpful analytics libraries installed\n",
    "# It is defined by the kaggle/python Docker image: https://github.com/kaggle/docker-python\n",
    "# For example, here's several helpful packages to load\n",
    "\n",
    "import numpy as np # linear algebra\n",
    "import pandas as pd # data processing, CSV file I/O (e.g. pd.read_csv)\n",
    "import matplotlib.pyplot as plt\n",
    "import seaborn as sns\n",
    "\n",
    "# Input data files are available in the read-only \"../input/\" directory\n",
    "# For example, running this (by clicking run or pressing Shift+Enter) will list all files under the input directory\n",
    "\n",
    "import os\n",
    "for dirname, _, filenames in os.walk('/kaggle/input'):\n",
    "    for filename in filenames:\n",
    "        print(os.path.join(dirname, filename))\n",
    "\n",
    "# You can write up to 20GB to the current directory (/kaggle/working/) that gets preserved as output when you create a version using \"Save & Run All\" \n",
    "# You can also write temporary files to /kaggle/temp/, but they won't be saved outside of the current session"
   ]
  },
  {
   "cell_type": "markdown",
   "metadata": {
    "papermill": {
     "duration": 0.044848,
     "end_time": "2021-02-21T19:09:48.570356",
     "exception": false,
     "start_time": "2021-02-21T19:09:48.525508",
     "status": "completed"
    },
    "tags": []
   },
   "source": [
    "# Import data"
   ]
  },
  {
   "cell_type": "code",
   "execution_count": 2,
   "metadata": {
    "execution": {
     "iopub.execute_input": "2021-02-21T19:09:48.669482Z",
     "iopub.status.busy": "2021-02-21T19:09:48.668738Z",
     "iopub.status.idle": "2021-02-21T19:09:53.145627Z",
     "shell.execute_reply": "2021-02-21T19:09:53.144954Z"
    },
    "papermill": {
     "duration": 4.529217,
     "end_time": "2021-02-21T19:09:53.145802",
     "exception": false,
     "start_time": "2021-02-21T19:09:48.616585",
     "status": "completed"
    },
    "tags": []
   },
   "outputs": [],
   "source": [
    "train_df = pd.read_csv('/kaggle/input/widsdatathon2021/TrainingWiDS2021.csv')\n",
    "test_df = pd.read_csv('/kaggle/input/widsdatathon2021/UnlabeledWiDS2021.csv')\n",
    "data_dict = pd.read_csv('/kaggle/input/widsdatathon2021/DataDictionaryWiDS2021.csv')"
   ]
  },
  {
   "cell_type": "code",
   "execution_count": 3,
   "metadata": {
    "execution": {
     "iopub.execute_input": "2021-02-21T19:09:53.244273Z",
     "iopub.status.busy": "2021-02-21T19:09:53.243468Z",
     "iopub.status.idle": "2021-02-21T19:09:53.249654Z",
     "shell.execute_reply": "2021-02-21T19:09:53.248938Z"
    },
    "papermill": {
     "duration": 0.057959,
     "end_time": "2021-02-21T19:09:53.249836",
     "exception": false,
     "start_time": "2021-02-21T19:09:53.191877",
     "status": "completed"
    },
    "tags": []
   },
   "outputs": [
    {
     "name": "stdout",
     "output_type": "stream",
     "text": [
      "Training data has 130157 entries and 180 attributes\n",
      "Test data has 10234 entries and 180 attributes\n"
     ]
    }
   ],
   "source": [
    "print('Training data has {} entries and {} attributes'.format(len(train_df), \n",
    "                                                              len(train_df.columns) - 1))\n",
    "print('Test data has {} entries and {} attributes'.format(len(test_df), \n",
    "                                                              len(test_df.columns)))"
   ]
  },
  {
   "cell_type": "markdown",
   "metadata": {
    "papermill": {
     "duration": 0.046419,
     "end_time": "2021-02-21T19:09:53.342649",
     "exception": false,
     "start_time": "2021-02-21T19:09:53.296230",
     "status": "completed"
    },
    "tags": []
   },
   "source": [
    "# Exploratory Data Analysis"
   ]
  },
  {
   "cell_type": "code",
   "execution_count": 4,
   "metadata": {
    "execution": {
     "iopub.execute_input": "2021-02-21T19:09:53.467687Z",
     "iopub.status.busy": "2021-02-21T19:09:53.466604Z",
     "iopub.status.idle": "2021-02-21T19:09:53.485719Z",
     "shell.execute_reply": "2021-02-21T19:09:53.486337Z"
    },
    "papermill": {
     "duration": 0.097075,
     "end_time": "2021-02-21T19:09:53.486570",
     "exception": false,
     "start_time": "2021-02-21T19:09:53.389495",
     "status": "completed"
    },
    "tags": []
   },
   "outputs": [
    {
     "data": {
      "text/html": [
       "<div>\n",
       "<style scoped>\n",
       "    .dataframe tbody tr th:only-of-type {\n",
       "        vertical-align: middle;\n",
       "    }\n",
       "\n",
       "    .dataframe tbody tr th {\n",
       "        vertical-align: top;\n",
       "    }\n",
       "\n",
       "    .dataframe thead th {\n",
       "        text-align: right;\n",
       "    }\n",
       "</style>\n",
       "<table border=\"1\" class=\"dataframe\">\n",
       "  <thead>\n",
       "    <tr style=\"text-align: right;\">\n",
       "      <th></th>\n",
       "      <th>Unnamed: 0</th>\n",
       "      <th>encounter_id</th>\n",
       "      <th>hospital_id</th>\n",
       "      <th>age</th>\n",
       "      <th>bmi</th>\n",
       "      <th>elective_surgery</th>\n",
       "      <th>ethnicity</th>\n",
       "      <th>gender</th>\n",
       "      <th>height</th>\n",
       "      <th>hospital_admit_source</th>\n",
       "      <th>...</th>\n",
       "      <th>h1_pao2fio2ratio_max</th>\n",
       "      <th>h1_pao2fio2ratio_min</th>\n",
       "      <th>aids</th>\n",
       "      <th>cirrhosis</th>\n",
       "      <th>hepatic_failure</th>\n",
       "      <th>immunosuppression</th>\n",
       "      <th>leukemia</th>\n",
       "      <th>lymphoma</th>\n",
       "      <th>solid_tumor_with_metastasis</th>\n",
       "      <th>diabetes_mellitus</th>\n",
       "    </tr>\n",
       "  </thead>\n",
       "  <tbody>\n",
       "    <tr>\n",
       "      <th>0</th>\n",
       "      <td>1</td>\n",
       "      <td>214826</td>\n",
       "      <td>118</td>\n",
       "      <td>68.0</td>\n",
       "      <td>22.732803</td>\n",
       "      <td>0</td>\n",
       "      <td>Caucasian</td>\n",
       "      <td>M</td>\n",
       "      <td>180.3</td>\n",
       "      <td>Floor</td>\n",
       "      <td>...</td>\n",
       "      <td>NaN</td>\n",
       "      <td>NaN</td>\n",
       "      <td>0</td>\n",
       "      <td>0</td>\n",
       "      <td>0</td>\n",
       "      <td>0</td>\n",
       "      <td>0</td>\n",
       "      <td>0</td>\n",
       "      <td>0</td>\n",
       "      <td>1</td>\n",
       "    </tr>\n",
       "    <tr>\n",
       "      <th>1</th>\n",
       "      <td>2</td>\n",
       "      <td>246060</td>\n",
       "      <td>81</td>\n",
       "      <td>77.0</td>\n",
       "      <td>27.421875</td>\n",
       "      <td>0</td>\n",
       "      <td>Caucasian</td>\n",
       "      <td>F</td>\n",
       "      <td>160.0</td>\n",
       "      <td>Floor</td>\n",
       "      <td>...</td>\n",
       "      <td>51.0</td>\n",
       "      <td>51.0</td>\n",
       "      <td>0</td>\n",
       "      <td>0</td>\n",
       "      <td>0</td>\n",
       "      <td>0</td>\n",
       "      <td>0</td>\n",
       "      <td>0</td>\n",
       "      <td>0</td>\n",
       "      <td>1</td>\n",
       "    </tr>\n",
       "    <tr>\n",
       "      <th>2</th>\n",
       "      <td>3</td>\n",
       "      <td>276985</td>\n",
       "      <td>118</td>\n",
       "      <td>25.0</td>\n",
       "      <td>31.952749</td>\n",
       "      <td>0</td>\n",
       "      <td>Caucasian</td>\n",
       "      <td>F</td>\n",
       "      <td>172.7</td>\n",
       "      <td>Emergency Department</td>\n",
       "      <td>...</td>\n",
       "      <td>NaN</td>\n",
       "      <td>NaN</td>\n",
       "      <td>0</td>\n",
       "      <td>0</td>\n",
       "      <td>0</td>\n",
       "      <td>0</td>\n",
       "      <td>0</td>\n",
       "      <td>0</td>\n",
       "      <td>0</td>\n",
       "      <td>0</td>\n",
       "    </tr>\n",
       "    <tr>\n",
       "      <th>3</th>\n",
       "      <td>4</td>\n",
       "      <td>262220</td>\n",
       "      <td>118</td>\n",
       "      <td>81.0</td>\n",
       "      <td>22.635548</td>\n",
       "      <td>1</td>\n",
       "      <td>Caucasian</td>\n",
       "      <td>F</td>\n",
       "      <td>165.1</td>\n",
       "      <td>Operating Room</td>\n",
       "      <td>...</td>\n",
       "      <td>337.0</td>\n",
       "      <td>337.0</td>\n",
       "      <td>0</td>\n",
       "      <td>0</td>\n",
       "      <td>0</td>\n",
       "      <td>0</td>\n",
       "      <td>0</td>\n",
       "      <td>0</td>\n",
       "      <td>0</td>\n",
       "      <td>0</td>\n",
       "    </tr>\n",
       "    <tr>\n",
       "      <th>4</th>\n",
       "      <td>5</td>\n",
       "      <td>201746</td>\n",
       "      <td>33</td>\n",
       "      <td>19.0</td>\n",
       "      <td>NaN</td>\n",
       "      <td>0</td>\n",
       "      <td>Caucasian</td>\n",
       "      <td>M</td>\n",
       "      <td>188.0</td>\n",
       "      <td>NaN</td>\n",
       "      <td>...</td>\n",
       "      <td>NaN</td>\n",
       "      <td>NaN</td>\n",
       "      <td>0</td>\n",
       "      <td>0</td>\n",
       "      <td>0</td>\n",
       "      <td>0</td>\n",
       "      <td>0</td>\n",
       "      <td>0</td>\n",
       "      <td>0</td>\n",
       "      <td>0</td>\n",
       "    </tr>\n",
       "  </tbody>\n",
       "</table>\n",
       "<p>5 rows × 181 columns</p>\n",
       "</div>"
      ],
      "text/plain": [
       "   Unnamed: 0  encounter_id  hospital_id   age        bmi  elective_surgery  \\\n",
       "0           1        214826          118  68.0  22.732803                 0   \n",
       "1           2        246060           81  77.0  27.421875                 0   \n",
       "2           3        276985          118  25.0  31.952749                 0   \n",
       "3           4        262220          118  81.0  22.635548                 1   \n",
       "4           5        201746           33  19.0        NaN                 0   \n",
       "\n",
       "   ethnicity gender  height hospital_admit_source  ... h1_pao2fio2ratio_max  \\\n",
       "0  Caucasian      M   180.3                 Floor  ...                  NaN   \n",
       "1  Caucasian      F   160.0                 Floor  ...                 51.0   \n",
       "2  Caucasian      F   172.7  Emergency Department  ...                  NaN   \n",
       "3  Caucasian      F   165.1        Operating Room  ...                337.0   \n",
       "4  Caucasian      M   188.0                   NaN  ...                  NaN   \n",
       "\n",
       "   h1_pao2fio2ratio_min aids cirrhosis  hepatic_failure  immunosuppression  \\\n",
       "0                   NaN    0         0                0                  0   \n",
       "1                  51.0    0         0                0                  0   \n",
       "2                   NaN    0         0                0                  0   \n",
       "3                 337.0    0         0                0                  0   \n",
       "4                   NaN    0         0                0                  0   \n",
       "\n",
       "   leukemia  lymphoma  solid_tumor_with_metastasis  diabetes_mellitus  \n",
       "0         0         0                            0                  1  \n",
       "1         0         0                            0                  1  \n",
       "2         0         0                            0                  0  \n",
       "3         0         0                            0                  0  \n",
       "4         0         0                            0                  0  \n",
       "\n",
       "[5 rows x 181 columns]"
      ]
     },
     "execution_count": 4,
     "metadata": {},
     "output_type": "execute_result"
    }
   ],
   "source": [
    "train_df.head()"
   ]
  },
  {
   "cell_type": "markdown",
   "metadata": {
    "papermill": {
     "duration": 0.046426,
     "end_time": "2021-02-21T19:09:53.585045",
     "exception": false,
     "start_time": "2021-02-21T19:09:53.538619",
     "status": "completed"
    },
    "tags": []
   },
   "source": [
    "Drop duplicate rows"
   ]
  },
  {
   "cell_type": "code",
   "execution_count": 5,
   "metadata": {
    "execution": {
     "iopub.execute_input": "2021-02-21T19:09:53.688333Z",
     "iopub.status.busy": "2021-02-21T19:09:53.687288Z",
     "iopub.status.idle": "2021-02-21T19:09:53.901407Z",
     "shell.execute_reply": "2021-02-21T19:09:53.902042Z"
    },
    "papermill": {
     "duration": 0.269762,
     "end_time": "2021-02-21T19:09:53.902274",
     "exception": false,
     "start_time": "2021-02-21T19:09:53.632512",
     "status": "completed"
    },
    "tags": []
   },
   "outputs": [
    {
     "data": {
      "text/html": [
       "<div>\n",
       "<style scoped>\n",
       "    .dataframe tbody tr th:only-of-type {\n",
       "        vertical-align: middle;\n",
       "    }\n",
       "\n",
       "    .dataframe tbody tr th {\n",
       "        vertical-align: top;\n",
       "    }\n",
       "\n",
       "    .dataframe thead th {\n",
       "        text-align: right;\n",
       "    }\n",
       "</style>\n",
       "<table border=\"1\" class=\"dataframe\">\n",
       "  <thead>\n",
       "    <tr style=\"text-align: right;\">\n",
       "      <th></th>\n",
       "      <th>Unnamed: 0</th>\n",
       "      <th>encounter_id</th>\n",
       "      <th>hospital_id</th>\n",
       "      <th>age</th>\n",
       "      <th>bmi</th>\n",
       "      <th>elective_surgery</th>\n",
       "      <th>ethnicity</th>\n",
       "      <th>gender</th>\n",
       "      <th>height</th>\n",
       "      <th>hospital_admit_source</th>\n",
       "      <th>...</th>\n",
       "      <th>h1_pao2fio2ratio_max</th>\n",
       "      <th>h1_pao2fio2ratio_min</th>\n",
       "      <th>aids</th>\n",
       "      <th>cirrhosis</th>\n",
       "      <th>hepatic_failure</th>\n",
       "      <th>immunosuppression</th>\n",
       "      <th>leukemia</th>\n",
       "      <th>lymphoma</th>\n",
       "      <th>solid_tumor_with_metastasis</th>\n",
       "      <th>diabetes_mellitus</th>\n",
       "    </tr>\n",
       "  </thead>\n",
       "  <tbody>\n",
       "    <tr>\n",
       "      <th>0</th>\n",
       "      <td>1</td>\n",
       "      <td>214826</td>\n",
       "      <td>118</td>\n",
       "      <td>68.0</td>\n",
       "      <td>22.732803</td>\n",
       "      <td>0</td>\n",
       "      <td>Caucasian</td>\n",
       "      <td>M</td>\n",
       "      <td>180.3</td>\n",
       "      <td>Floor</td>\n",
       "      <td>...</td>\n",
       "      <td>NaN</td>\n",
       "      <td>NaN</td>\n",
       "      <td>0</td>\n",
       "      <td>0</td>\n",
       "      <td>0</td>\n",
       "      <td>0</td>\n",
       "      <td>0</td>\n",
       "      <td>0</td>\n",
       "      <td>0</td>\n",
       "      <td>1</td>\n",
       "    </tr>\n",
       "    <tr>\n",
       "      <th>1</th>\n",
       "      <td>2</td>\n",
       "      <td>246060</td>\n",
       "      <td>81</td>\n",
       "      <td>77.0</td>\n",
       "      <td>27.421875</td>\n",
       "      <td>0</td>\n",
       "      <td>Caucasian</td>\n",
       "      <td>F</td>\n",
       "      <td>160.0</td>\n",
       "      <td>Floor</td>\n",
       "      <td>...</td>\n",
       "      <td>51.0</td>\n",
       "      <td>51.0</td>\n",
       "      <td>0</td>\n",
       "      <td>0</td>\n",
       "      <td>0</td>\n",
       "      <td>0</td>\n",
       "      <td>0</td>\n",
       "      <td>0</td>\n",
       "      <td>0</td>\n",
       "      <td>1</td>\n",
       "    </tr>\n",
       "    <tr>\n",
       "      <th>2</th>\n",
       "      <td>3</td>\n",
       "      <td>276985</td>\n",
       "      <td>118</td>\n",
       "      <td>25.0</td>\n",
       "      <td>31.952749</td>\n",
       "      <td>0</td>\n",
       "      <td>Caucasian</td>\n",
       "      <td>F</td>\n",
       "      <td>172.7</td>\n",
       "      <td>Emergency Department</td>\n",
       "      <td>...</td>\n",
       "      <td>NaN</td>\n",
       "      <td>NaN</td>\n",
       "      <td>0</td>\n",
       "      <td>0</td>\n",
       "      <td>0</td>\n",
       "      <td>0</td>\n",
       "      <td>0</td>\n",
       "      <td>0</td>\n",
       "      <td>0</td>\n",
       "      <td>0</td>\n",
       "    </tr>\n",
       "    <tr>\n",
       "      <th>3</th>\n",
       "      <td>4</td>\n",
       "      <td>262220</td>\n",
       "      <td>118</td>\n",
       "      <td>81.0</td>\n",
       "      <td>22.635548</td>\n",
       "      <td>1</td>\n",
       "      <td>Caucasian</td>\n",
       "      <td>F</td>\n",
       "      <td>165.1</td>\n",
       "      <td>Operating Room</td>\n",
       "      <td>...</td>\n",
       "      <td>337.0</td>\n",
       "      <td>337.0</td>\n",
       "      <td>0</td>\n",
       "      <td>0</td>\n",
       "      <td>0</td>\n",
       "      <td>0</td>\n",
       "      <td>0</td>\n",
       "      <td>0</td>\n",
       "      <td>0</td>\n",
       "      <td>0</td>\n",
       "    </tr>\n",
       "    <tr>\n",
       "      <th>4</th>\n",
       "      <td>5</td>\n",
       "      <td>201746</td>\n",
       "      <td>33</td>\n",
       "      <td>19.0</td>\n",
       "      <td>NaN</td>\n",
       "      <td>0</td>\n",
       "      <td>Caucasian</td>\n",
       "      <td>M</td>\n",
       "      <td>188.0</td>\n",
       "      <td>NaN</td>\n",
       "      <td>...</td>\n",
       "      <td>NaN</td>\n",
       "      <td>NaN</td>\n",
       "      <td>0</td>\n",
       "      <td>0</td>\n",
       "      <td>0</td>\n",
       "      <td>0</td>\n",
       "      <td>0</td>\n",
       "      <td>0</td>\n",
       "      <td>0</td>\n",
       "      <td>0</td>\n",
       "    </tr>\n",
       "    <tr>\n",
       "      <th>...</th>\n",
       "      <td>...</td>\n",
       "      <td>...</td>\n",
       "      <td>...</td>\n",
       "      <td>...</td>\n",
       "      <td>...</td>\n",
       "      <td>...</td>\n",
       "      <td>...</td>\n",
       "      <td>...</td>\n",
       "      <td>...</td>\n",
       "      <td>...</td>\n",
       "      <td>...</td>\n",
       "      <td>...</td>\n",
       "      <td>...</td>\n",
       "      <td>...</td>\n",
       "      <td>...</td>\n",
       "      <td>...</td>\n",
       "      <td>...</td>\n",
       "      <td>...</td>\n",
       "      <td>...</td>\n",
       "      <td>...</td>\n",
       "      <td>...</td>\n",
       "    </tr>\n",
       "    <tr>\n",
       "      <th>130152</th>\n",
       "      <td>130153</td>\n",
       "      <td>164758</td>\n",
       "      <td>7</td>\n",
       "      <td>50.0</td>\n",
       "      <td>29.287256</td>\n",
       "      <td>0</td>\n",
       "      <td>Caucasian</td>\n",
       "      <td>M</td>\n",
       "      <td>175.3</td>\n",
       "      <td>Emergency Department</td>\n",
       "      <td>...</td>\n",
       "      <td>NaN</td>\n",
       "      <td>NaN</td>\n",
       "      <td>0</td>\n",
       "      <td>0</td>\n",
       "      <td>0</td>\n",
       "      <td>0</td>\n",
       "      <td>0</td>\n",
       "      <td>0</td>\n",
       "      <td>0</td>\n",
       "      <td>0</td>\n",
       "    </tr>\n",
       "    <tr>\n",
       "      <th>130153</th>\n",
       "      <td>130154</td>\n",
       "      <td>197653</td>\n",
       "      <td>7</td>\n",
       "      <td>79.0</td>\n",
       "      <td>29.653433</td>\n",
       "      <td>0</td>\n",
       "      <td>Caucasian</td>\n",
       "      <td>F</td>\n",
       "      <td>162.6</td>\n",
       "      <td>Direct Admit</td>\n",
       "      <td>...</td>\n",
       "      <td>NaN</td>\n",
       "      <td>NaN</td>\n",
       "      <td>0</td>\n",
       "      <td>0</td>\n",
       "      <td>0</td>\n",
       "      <td>0</td>\n",
       "      <td>0</td>\n",
       "      <td>0</td>\n",
       "      <td>0</td>\n",
       "      <td>0</td>\n",
       "    </tr>\n",
       "    <tr>\n",
       "      <th>130154</th>\n",
       "      <td>130155</td>\n",
       "      <td>219719</td>\n",
       "      <td>7</td>\n",
       "      <td>73.0</td>\n",
       "      <td>32.265371</td>\n",
       "      <td>0</td>\n",
       "      <td>African American</td>\n",
       "      <td>M</td>\n",
       "      <td>177.8</td>\n",
       "      <td>Emergency Department</td>\n",
       "      <td>...</td>\n",
       "      <td>163.0</td>\n",
       "      <td>163.0</td>\n",
       "      <td>0</td>\n",
       "      <td>0</td>\n",
       "      <td>0</td>\n",
       "      <td>0</td>\n",
       "      <td>0</td>\n",
       "      <td>0</td>\n",
       "      <td>0</td>\n",
       "      <td>1</td>\n",
       "    </tr>\n",
       "    <tr>\n",
       "      <th>130155</th>\n",
       "      <td>130156</td>\n",
       "      <td>222562</td>\n",
       "      <td>170</td>\n",
       "      <td>81.0</td>\n",
       "      <td>24.408579</td>\n",
       "      <td>0</td>\n",
       "      <td>Caucasian</td>\n",
       "      <td>M</td>\n",
       "      <td>185.4</td>\n",
       "      <td>Emergency Department</td>\n",
       "      <td>...</td>\n",
       "      <td>NaN</td>\n",
       "      <td>NaN</td>\n",
       "      <td>0</td>\n",
       "      <td>0</td>\n",
       "      <td>0</td>\n",
       "      <td>0</td>\n",
       "      <td>0</td>\n",
       "      <td>0</td>\n",
       "      <td>0</td>\n",
       "      <td>0</td>\n",
       "    </tr>\n",
       "    <tr>\n",
       "      <th>130156</th>\n",
       "      <td>130157</td>\n",
       "      <td>157942</td>\n",
       "      <td>7</td>\n",
       "      <td>35.0</td>\n",
       "      <td>30.132358</td>\n",
       "      <td>0</td>\n",
       "      <td>African American</td>\n",
       "      <td>M</td>\n",
       "      <td>182.9</td>\n",
       "      <td>Emergency Department</td>\n",
       "      <td>...</td>\n",
       "      <td>NaN</td>\n",
       "      <td>NaN</td>\n",
       "      <td>0</td>\n",
       "      <td>0</td>\n",
       "      <td>0</td>\n",
       "      <td>0</td>\n",
       "      <td>0</td>\n",
       "      <td>0</td>\n",
       "      <td>0</td>\n",
       "      <td>0</td>\n",
       "    </tr>\n",
       "  </tbody>\n",
       "</table>\n",
       "<p>130157 rows × 181 columns</p>\n",
       "</div>"
      ],
      "text/plain": [
       "        Unnamed: 0  encounter_id  hospital_id   age        bmi  \\\n",
       "0                1        214826          118  68.0  22.732803   \n",
       "1                2        246060           81  77.0  27.421875   \n",
       "2                3        276985          118  25.0  31.952749   \n",
       "3                4        262220          118  81.0  22.635548   \n",
       "4                5        201746           33  19.0        NaN   \n",
       "...            ...           ...          ...   ...        ...   \n",
       "130152      130153        164758            7  50.0  29.287256   \n",
       "130153      130154        197653            7  79.0  29.653433   \n",
       "130154      130155        219719            7  73.0  32.265371   \n",
       "130155      130156        222562          170  81.0  24.408579   \n",
       "130156      130157        157942            7  35.0  30.132358   \n",
       "\n",
       "        elective_surgery         ethnicity gender  height  \\\n",
       "0                      0         Caucasian      M   180.3   \n",
       "1                      0         Caucasian      F   160.0   \n",
       "2                      0         Caucasian      F   172.7   \n",
       "3                      1         Caucasian      F   165.1   \n",
       "4                      0         Caucasian      M   188.0   \n",
       "...                  ...               ...    ...     ...   \n",
       "130152                 0         Caucasian      M   175.3   \n",
       "130153                 0         Caucasian      F   162.6   \n",
       "130154                 0  African American      M   177.8   \n",
       "130155                 0         Caucasian      M   185.4   \n",
       "130156                 0  African American      M   182.9   \n",
       "\n",
       "       hospital_admit_source  ... h1_pao2fio2ratio_max  h1_pao2fio2ratio_min  \\\n",
       "0                      Floor  ...                  NaN                   NaN   \n",
       "1                      Floor  ...                 51.0                  51.0   \n",
       "2       Emergency Department  ...                  NaN                   NaN   \n",
       "3             Operating Room  ...                337.0                 337.0   \n",
       "4                        NaN  ...                  NaN                   NaN   \n",
       "...                      ...  ...                  ...                   ...   \n",
       "130152  Emergency Department  ...                  NaN                   NaN   \n",
       "130153          Direct Admit  ...                  NaN                   NaN   \n",
       "130154  Emergency Department  ...                163.0                 163.0   \n",
       "130155  Emergency Department  ...                  NaN                   NaN   \n",
       "130156  Emergency Department  ...                  NaN                   NaN   \n",
       "\n",
       "       aids cirrhosis  hepatic_failure  immunosuppression  leukemia  lymphoma  \\\n",
       "0         0         0                0                  0         0         0   \n",
       "1         0         0                0                  0         0         0   \n",
       "2         0         0                0                  0         0         0   \n",
       "3         0         0                0                  0         0         0   \n",
       "4         0         0                0                  0         0         0   \n",
       "...     ...       ...              ...                ...       ...       ...   \n",
       "130152    0         0                0                  0         0         0   \n",
       "130153    0         0                0                  0         0         0   \n",
       "130154    0         0                0                  0         0         0   \n",
       "130155    0         0                0                  0         0         0   \n",
       "130156    0         0                0                  0         0         0   \n",
       "\n",
       "        solid_tumor_with_metastasis  diabetes_mellitus  \n",
       "0                                 0                  1  \n",
       "1                                 0                  1  \n",
       "2                                 0                  0  \n",
       "3                                 0                  0  \n",
       "4                                 0                  0  \n",
       "...                             ...                ...  \n",
       "130152                            0                  0  \n",
       "130153                            0                  0  \n",
       "130154                            0                  1  \n",
       "130155                            0                  0  \n",
       "130156                            0                  0  \n",
       "\n",
       "[130157 rows x 181 columns]"
      ]
     },
     "execution_count": 5,
     "metadata": {},
     "output_type": "execute_result"
    }
   ],
   "source": [
    "train_df.drop_duplicates(subset = ['encounter_id', 'hospital_id'], keep = 'first')"
   ]
  },
  {
   "cell_type": "markdown",
   "metadata": {
    "papermill": {
     "duration": 0.04759,
     "end_time": "2021-02-21T19:09:54.002480",
     "exception": false,
     "start_time": "2021-02-21T19:09:53.954890",
     "status": "completed"
    },
    "tags": []
   },
   "source": [
    "Look at the age distribution in the training set"
   ]
  },
  {
   "cell_type": "code",
   "execution_count": 6,
   "metadata": {
    "execution": {
     "iopub.execute_input": "2021-02-21T19:09:54.106016Z",
     "iopub.status.busy": "2021-02-21T19:09:54.105255Z",
     "iopub.status.idle": "2021-02-21T19:09:54.349875Z",
     "shell.execute_reply": "2021-02-21T19:09:54.350440Z"
    },
    "papermill": {
     "duration": 0.30073,
     "end_time": "2021-02-21T19:09:54.350620",
     "exception": false,
     "start_time": "2021-02-21T19:09:54.049890",
     "status": "completed"
    },
    "tags": []
   },
   "outputs": [
    {
     "data": {
      "image/png": "[encoded data removed]",
      "text/plain": [
       "<Figure size 576x396 with 1 Axes>"
      ]
     },
     "metadata": {},
     "output_type": "display_data"
    }
   ],
   "source": [
    "plt.style.use('seaborn')\n",
    "plt.figure()\n",
    "ax = train_df['age'].plot(kind = 'hist', color = 'blue', alpha = 0.65, ec = 'k')\n",
    "plt.xlabel('Age', fontsize = 16)\n",
    "plt.ylabel('Frequency', fontsize = 16)\n",
    "plt.title('Histogram of age', fontsize = 20)\n",
    "plt.show()"
   ]
  },
  {
   "cell_type": "markdown",
   "metadata": {
    "papermill": {
     "duration": 0.048906,
     "end_time": "2021-02-21T19:09:54.449237",
     "exception": false,
     "start_time": "2021-02-21T19:09:54.400331",
     "status": "completed"
    },
    "tags": []
   },
   "source": [
    "Check for diabetes in different age groups"
   ]
  },
  {
   "cell_type": "code",
   "execution_count": 7,
   "metadata": {
    "execution": {
     "iopub.execute_input": "2021-02-21T19:09:54.556220Z",
     "iopub.status.busy": "2021-02-21T19:09:54.555252Z",
     "iopub.status.idle": "2021-02-21T19:09:54.755674Z",
     "shell.execute_reply": "2021-02-21T19:09:54.756226Z"
    },
    "papermill": {
     "duration": 0.258425,
     "end_time": "2021-02-21T19:09:54.756424",
     "exception": false,
     "start_time": "2021-02-21T19:09:54.497999",
     "status": "completed"
    },
    "tags": []
   },
   "outputs": [
    {
     "data": {
      "image/png": "[encoded data removed]",
      "text/plain": [
       "<Figure size 432x288 with 1 Axes>"
      ]
     },
     "metadata": {},
     "output_type": "display_data"
    }
   ],
   "source": [
    "plt.figure(figsize = (6,4))\n",
    "ax1 = train_df['diabetes_mellitus'].value_counts().plot(kind = 'bar', color = ['green', 'red'],ec = 'k')\n",
    "plt.xticks(ticks = [0, 1], labels = ['Not Diabetic', 'Diabetic'], fontsize = 16, rotation = 'horizontal')\n",
    "plt.ylabel('Counts', fontsize = 16)\n",
    "plt.show()"
   ]
  },
  {
   "cell_type": "code",
   "execution_count": 8,
   "metadata": {
    "execution": {
     "iopub.execute_input": "2021-02-21T19:09:54.863194Z",
     "iopub.status.busy": "2021-02-21T19:09:54.862473Z",
     "iopub.status.idle": "2021-02-21T19:09:55.003812Z",
     "shell.execute_reply": "2021-02-21T19:09:55.002767Z"
    },
    "papermill": {
     "duration": 0.197568,
     "end_time": "2021-02-21T19:09:55.003974",
     "exception": false,
     "start_time": "2021-02-21T19:09:54.806406",
     "status": "completed"
    },
    "tags": []
   },
   "outputs": [],
   "source": [
    "diabetic = train_df[train_df['diabetes_mellitus'] == 1]\n",
    "nondiabetic = train_df[train_df['diabetes_mellitus'] == 0]"
   ]
  },
  {
   "cell_type": "code",
   "execution_count": 9,
   "metadata": {
    "execution": {
     "iopub.execute_input": "2021-02-21T19:09:55.114285Z",
     "iopub.status.busy": "2021-02-21T19:09:55.113214Z",
     "iopub.status.idle": "2021-02-21T19:09:55.398175Z",
     "shell.execute_reply": "2021-02-21T19:09:55.398712Z"
    },
    "papermill": {
     "duration": 0.345055,
     "end_time": "2021-02-21T19:09:55.398888",
     "exception": false,
     "start_time": "2021-02-21T19:09:55.053833",
     "status": "completed"
    },
    "tags": []
   },
   "outputs": [
    {
     "data": {
      "image/png": "[encoded data removed]",
      "text/plain": [
       "<Figure size 576x432 with 1 Axes>"
      ]
     },
     "metadata": {},
     "output_type": "display_data"
    }
   ],
   "source": [
    "plt.figure(figsize = (8,6))\n",
    "nondiabetic['age'].plot(kind = 'hist', color = 'green', alpha= 0.65, label = 'Not diabetic', legend = True)\n",
    "diabetic['age'].plot(kind = 'hist', color = 'red', alpha= 0.65, label = 'Diabetic', legend = True)\n",
    "plt.xlabel('Age', fontsize = 16)\n",
    "plt.ylabel('Frequency', fontsize = 16)\n",
    "plt.title('Age distribution among diabetic and non-diabetic patients', fontsize = 20)\n",
    "plt.show()"
   ]
  },
  {
   "cell_type": "markdown",
   "metadata": {
    "papermill": {
     "duration": 0.053251,
     "end_time": "2021-02-21T19:09:55.504209",
     "exception": false,
     "start_time": "2021-02-21T19:09:55.450958",
     "status": "completed"
    },
    "tags": []
   },
   "source": [
    "Look at gender and ethnicity information"
   ]
  },
  {
   "cell_type": "code",
   "execution_count": 10,
   "metadata": {
    "execution": {
     "iopub.execute_input": "2021-02-21T19:09:55.633324Z",
     "iopub.status.busy": "2021-02-21T19:09:55.631980Z",
     "iopub.status.idle": "2021-02-21T19:09:55.966480Z",
     "shell.execute_reply": "2021-02-21T19:09:55.967011Z"
    },
    "papermill": {
     "duration": 0.409938,
     "end_time": "2021-02-21T19:09:55.967203",
     "exception": false,
     "start_time": "2021-02-21T19:09:55.557265",
     "status": "completed"
    },
    "tags": []
   },
   "outputs": [
    {
     "data": {
      "image/png": "[encoded data removed]",
      "text/plain": [
       "<Figure size 720x288 with 2 Axes>"
      ]
     },
     "metadata": {},
     "output_type": "display_data"
    }
   ],
   "source": [
    "plt.figure(figsize = (10, 4))\n",
    "plt.subplot(1, 2, 1)\n",
    "ax1 = train_df.gender.value_counts().plot(kind = 'bar', color = ['blue', 'red'], ec = 'black', alpha = 0.65)\n",
    "ax1.set_title(\"Gender\", fontsize= 20)\n",
    "ax1.set_ylabel(\"\")\n",
    "\n",
    "\n",
    "plt.subplot(1,2,2)\n",
    "ax2 = train_df.ethnicity.value_counts().plot(kind = 'bar', color = ['b', 'purple', 'c', 'g', 'm', 'y'], ec = 'black', alpha = 0.65 )\n",
    "ax2.set_title(\"Ethnicity\", fontsize= 20)\n",
    "plt.xticks(rotation = 45)\n",
    "ax2.set_ylabel(\"\")\n",
    "plt.show()"
   ]
  },
  {
   "cell_type": "code",
   "execution_count": 11,
   "metadata": {
    "execution": {
     "iopub.execute_input": "2021-02-21T19:09:56.102362Z",
     "iopub.status.busy": "2021-02-21T19:09:56.101214Z",
     "iopub.status.idle": "2021-02-21T19:09:59.862672Z",
     "shell.execute_reply": "2021-02-21T19:09:59.864621Z"
    },
    "papermill": {
     "duration": 3.845065,
     "end_time": "2021-02-21T19:09:59.865081",
     "exception": false,
     "start_time": "2021-02-21T19:09:56.020016",
     "status": "completed"
    },
    "tags": []
   },
   "outputs": [
    {
     "data": {
      "image/png": "[encoded data removed]",
      "text/plain": [
       "<Figure size 720x288 with 2 Axes>"
      ]
     },
     "metadata": {},
     "output_type": "display_data"
    }
   ],
   "source": [
    "plt.figure(figsize = (10, 4))\n",
    "plt.subplot(1, 2, 1)\n",
    "train_df[train_df['gender'] == 'M'].height.plot(kind = 'kde', color = 'blue', label = 'Male', legend = True)\n",
    "train_df[train_df['gender'] == 'F'].height.plot(kind = 'kde', color = 'red', label = 'Female', legend = True)\n",
    "plt.xlabel('Height in cm', fontsize = 16)\n",
    "plt.ylabel('')\n",
    "plt.title('Height', fontsize = 20)\n",
    "\n",
    "\n",
    "plt.subplot(1,2,2)\n",
    "train_df[train_df['gender'] == 'M'].weight.plot(kind = 'kde', color = 'blue', label = 'Male', legend = True)\n",
    "train_df[train_df['gender'] == 'F'].weight.plot(kind = 'kde', color = 'red', label = 'Female', legend = True)\n",
    "plt.xlabel('Weight in lbs', fontsize = 16)\n",
    "plt.ylabel('')\n",
    "plt.title('Weight', fontsize = 20)\n",
    "\n",
    "plt.show()"
   ]
  },
  {
   "cell_type": "code",
   "execution_count": 12,
   "metadata": {
    "execution": {
     "iopub.execute_input": "2021-02-21T19:09:59.992264Z",
     "iopub.status.busy": "2021-02-21T19:09:59.991226Z",
     "iopub.status.idle": "2021-02-21T19:10:01.869657Z",
     "shell.execute_reply": "2021-02-21T19:10:01.868536Z"
    },
    "papermill": {
     "duration": 1.94361,
     "end_time": "2021-02-21T19:10:01.869816",
     "exception": false,
     "start_time": "2021-02-21T19:09:59.926206",
     "status": "completed"
    },
    "tags": []
   },
   "outputs": [
    {
     "data": {
      "text/plain": [
       "<Figure size 432x288 with 0 Axes>"
      ]
     },
     "metadata": {},
     "output_type": "display_data"
    },
    {
     "data": {
      "image/png": "[encoded data removed]",
      "text/plain": [
       "<Figure size 576x396 with 1 Axes>"
      ]
     },
     "metadata": {},
     "output_type": "display_data"
    }
   ],
   "source": [
    "import matplotlib\n",
    "train_df['bmi'] = train_df['bmi'].astype(float)\n",
    "test_df['bmi'] = test_df['bmi'].astype(float)\n",
    "\n",
    "plt.figure(figsize = (6, 4))\n",
    "fig, ax = plt.subplots()\n",
    "\n",
    "ax = train_df.bmi.plot(kind = 'kde', color = 'black')\n",
    "plt.xlim([0, 100])\n",
    "\n",
    "ax.axvspan(0, 18.5, facecolor='darkorchid', alpha=0.3)\n",
    "ax.axvspan(18.5, 25, facecolor='green', alpha=0.3)\n",
    "ax.axvspan(25, 30, facecolor='gold', alpha=0.3)\n",
    "ax.axvspan(30, 100, facecolor='red', alpha=0.3)\n",
    "plt.xticks([18.5, 25, 30])\n",
    "plt.xlabel('Bmi in kg/m^2', fontsize = 16)\n",
    "plt.ylabel('')\n",
    "plt.title('Body Mass Index', fontsize = 20)\n",
    "plt.show()"
   ]
  },
  {
   "cell_type": "code",
   "execution_count": 13,
   "metadata": {
    "execution": {
     "iopub.execute_input": "2021-02-21T19:10:02.023879Z",
     "iopub.status.busy": "2021-02-21T19:10:02.020569Z",
     "iopub.status.idle": "2021-02-21T19:10:03.097747Z",
     "shell.execute_reply": "2021-02-21T19:10:03.096632Z"
    },
    "papermill": {
     "duration": 1.171275,
     "end_time": "2021-02-21T19:10:03.097905",
     "exception": false,
     "start_time": "2021-02-21T19:10:01.926630",
     "status": "completed"
    },
    "tags": []
   },
   "outputs": [
    {
     "data": {
      "image/png": "[encoded data removed]",
      "text/plain": [
       "<Figure size 1296x864 with 9 Axes>"
      ]
     },
     "metadata": {},
     "output_type": "display_data"
    }
   ],
   "source": [
    "plt.figure(figsize = (18, 12))\n",
    "\n",
    "plt.subplot(3,3,1)\n",
    "ax1 = train_df.elective_surgery.value_counts().plot(kind = 'bar', colormap = 'cool',alpha = 0.65)\n",
    "plt.title(\"Elective Surgery\", fontsize= 16)\n",
    "ax1.set_xticklabels(labels = [0,1],rotation = 0)\n",
    "ax1.set_ylabel(\"\")\n",
    "\n",
    "\n",
    "plt.subplot(3,3,2)\n",
    "ax2 = train_df.readmission_status.value_counts().plot(kind = 'bar', colormap = 'pink', alpha = 0.65)\n",
    "plt.title(\"Readmission Status\", fontsize= 16)\n",
    "ax2.set_xticklabels(labels = [0],rotation = 0)\n",
    "ax2.set_ylabel(\"\")\n",
    "\n",
    "plt.subplot(3,3,3)\n",
    "ax3 = train_df.aids.value_counts().plot(kind = 'bar', colormap = 'coolwarm', alpha = 0.65)\n",
    "plt.title(\"Aids\", fontsize= 16)\n",
    "ax3.set_xticklabels(labels = [0,1],rotation = 0)\n",
    "ax3.set_ylabel(\"\")\n",
    "\n",
    "plt.subplot(3,3,4)\n",
    "ax4 = train_df.cirrhosis.value_counts().plot(kind = 'bar', colormap = 'spring',alpha = 0.65)\n",
    "plt.title(\"Cirrhosis\", fontsize= 16)\n",
    "ax4.set_xticklabels(labels = [0,1],rotation = 0)\n",
    "ax4.set_ylabel(\"\")\n",
    "\n",
    "plt.subplot(3,3,5)\n",
    "ax5 = train_df.hepatic_failure.value_counts().plot(kind = 'bar', colormap = 'Wistia',alpha = 0.65)\n",
    "plt.title(\"Hepatic Failure\", fontsize= 16)\n",
    "ax5.set_xticklabels(labels = [0,1],rotation = 0)\n",
    "ax5.set_ylabel(\"\")\n",
    "\n",
    "plt.subplot(3,3,6)\n",
    "ax6 = train_df.immunosuppression.value_counts().plot(kind = 'bar', colormap = 'Accent',alpha = 0.65)\n",
    "plt.title(\"Immunosuppression\", fontsize= 16)\n",
    "ax6.set_xticklabels(labels = [0,1],rotation = 0)\n",
    "ax6.set_ylabel(\"\")\n",
    "\n",
    "plt.subplot(3,3,7)\n",
    "ax7 = train_df.leukemia.value_counts().plot(kind = 'bar', colormap = 'plasma',alpha = 0.65)\n",
    "plt.title(\"Leukemia\", fontsize= 16)\n",
    "ax7.set_xticklabels(labels = [0,1],rotation = 0)\n",
    "ax7.set_ylabel(\"\")\n",
    "\n",
    "plt.subplot(3,3,8)\n",
    "ax8 = train_df.lymphoma.value_counts().plot(kind = 'bar', colormap = 'viridis',alpha = 0.65)\n",
    "plt.title(\"Lymphoma\", fontsize= 16)\n",
    "ax8.set_xticklabels(labels = [0,1],rotation = 0)\n",
    "ax8.set_ylabel(\"\")\n",
    "\n",
    "plt.subplot(3,3,9)\n",
    "ax9 = train_df.solid_tumor_with_metastasis.value_counts().plot(kind = 'bar', \n",
    "                                                               colormap = 'cividis', \n",
    "                                                               alpha = 0.65)\n",
    "plt.title(\"Tumor\", fontsize= 16)\n",
    "ax9.set_xticklabels(labels = [0,1],rotation = 0)\n",
    "ax9.set_ylabel(\"\")\n",
    "plt.show()"
   ]
  },
  {
   "cell_type": "markdown",
   "metadata": {
    "papermill": {
     "duration": 0.058412,
     "end_time": "2021-02-21T19:10:03.215698",
     "exception": false,
     "start_time": "2021-02-21T19:10:03.157286",
     "status": "completed"
    },
    "tags": []
   },
   "source": [
    "Separate training features and training labels and mark the test set"
   ]
  },
  {
   "cell_type": "code",
   "execution_count": 14,
   "metadata": {
    "execution": {
     "iopub.execute_input": "2021-02-21T19:10:03.341233Z",
     "iopub.status.busy": "2021-02-21T19:10:03.339684Z",
     "iopub.status.idle": "2021-02-21T19:10:03.345854Z",
     "shell.execute_reply": "2021-02-21T19:10:03.345313Z"
    },
    "papermill": {
     "duration": 0.071974,
     "end_time": "2021-02-21T19:10:03.346001",
     "exception": false,
     "start_time": "2021-02-21T19:10:03.274027",
     "status": "completed"
    },
    "tags": []
   },
   "outputs": [],
   "source": [
    "train_df_y = train_df.pop('diabetes_mellitus')\n",
    "train_df_X = train_df\n",
    "\n",
    "test_df_X = test_df\n",
    "assert(len(train_df_X.columns) == len(test_df_X.columns))"
   ]
  },
  {
   "cell_type": "markdown",
   "metadata": {
    "papermill": {
     "duration": 0.060062,
     "end_time": "2021-02-21T19:10:03.466231",
     "exception": false,
     "start_time": "2021-02-21T19:10:03.406169",
     "status": "completed"
    },
    "tags": []
   },
   "source": [
    "Quantify the amount of missing information"
   ]
  },
  {
   "cell_type": "code",
   "execution_count": 15,
   "metadata": {
    "execution": {
     "iopub.execute_input": "2021-02-21T19:10:03.593014Z",
     "iopub.status.busy": "2021-02-21T19:10:03.592111Z",
     "iopub.status.idle": "2021-02-21T19:10:03.596488Z",
     "shell.execute_reply": "2021-02-21T19:10:03.595913Z"
    },
    "papermill": {
     "duration": 0.070382,
     "end_time": "2021-02-21T19:10:03.596630",
     "exception": false,
     "start_time": "2021-02-21T19:10:03.526248",
     "status": "completed"
    },
    "tags": []
   },
   "outputs": [],
   "source": [
    "def group_attributes_missing_info(attribute_type):\n",
    "    col_name = []\n",
    "    missing_num = {}\n",
    "    col_name = data_dict[data_dict['Data Type'] == attribute_type]['Variable Name'].reset_index(drop = True)\n",
    "    \n",
    "    for col in col_name:\n",
    "        if col in train_df_X.columns:\n",
    "            missing_num[col] = train_df_X[col].isna().sum()*100/len(train_df_X)\n",
    "        \n",
    "    return missing_num"
   ]
  },
  {
   "cell_type": "code",
   "execution_count": 16,
   "metadata": {
    "execution": {
     "iopub.execute_input": "2021-02-21T19:10:03.722930Z",
     "iopub.status.busy": "2021-02-21T19:10:03.721833Z",
     "iopub.status.idle": "2021-02-21T19:10:03.732910Z",
     "shell.execute_reply": "2021-02-21T19:10:03.732394Z"
    },
    "papermill": {
     "duration": 0.076543,
     "end_time": "2021-02-21T19:10:03.733051",
     "exception": false,
     "start_time": "2021-02-21T19:10:03.656508",
     "status": "completed"
    },
    "tags": []
   },
   "outputs": [
    {
     "name": "stdout",
     "output_type": "stream",
     "text": [
      "Integer Attributes and Percentage of Missing Values\n"
     ]
    },
    {
     "data": {
      "text/plain": [
       "{'encounter_id': 0.0,\n",
       " 'hospital_id': 0.0,\n",
       " 'icu_id': 0.0,\n",
       " 'gcs_eyes_apache': 1.6825833416566147,\n",
       " 'gcs_motor_apache': 1.6825833416566147,\n",
       " 'gcs_verbal_apache': 1.6825833416566147}"
      ]
     },
     "execution_count": 16,
     "metadata": {},
     "output_type": "execute_result"
    }
   ],
   "source": [
    "integer_missing = group_attributes_missing_info('integer')\n",
    "print('Integer Attributes and Percentage of Missing Values')\n",
    "integer_missing"
   ]
  },
  {
   "cell_type": "code",
   "execution_count": 17,
   "metadata": {
    "execution": {
     "iopub.execute_input": "2021-02-21T19:10:03.861526Z",
     "iopub.status.busy": "2021-02-21T19:10:03.860385Z",
     "iopub.status.idle": "2021-02-21T19:10:03.949681Z",
     "shell.execute_reply": "2021-02-21T19:10:03.950226Z"
    },
    "papermill": {
     "duration": 0.156412,
     "end_time": "2021-02-21T19:10:03.950412",
     "exception": false,
     "start_time": "2021-02-21T19:10:03.794000",
     "status": "completed"
    },
    "tags": []
   },
   "outputs": [
    {
     "name": "stdout",
     "output_type": "stream",
     "text": [
      "Numeric Attributes and Percentage of Missing Values\n"
     ]
    },
    {
     "data": {
      "text/plain": [
       "{'age': 3.8322948439192666,\n",
       " 'height': 1.5957651144387164,\n",
       " 'pre_icu_los_days': 0.0,\n",
       " 'weight': 2.6606329279255054,\n",
       " 'albumin_apache': 60.05285923922647,\n",
       " 'bilirubin_apache': 63.43108707176717,\n",
       " 'bun_apache': 19.523344883486867,\n",
       " 'creatinine_apache': 19.116912651643784,\n",
       " 'fio2_apache': 76.61516476255599,\n",
       " 'glucose_apache': 11.290979355701191,\n",
       " 'heart_rate_apache': 0.23740559478168674,\n",
       " 'hematocrit_apache': 20.558248884040044,\n",
       " 'map_apache': 0.3226872162081179,\n",
       " 'paco2_apache': 76.61516476255599,\n",
       " 'paco2_for_ph_apache': 76.61516476255599,\n",
       " 'pao2_apache': 76.61516476255599,\n",
       " 'ph_apache': 76.61516476255599,\n",
       " 'resprate_apache': 0.6207887397527602,\n",
       " 'sodium_apache': 18.838018700492484,\n",
       " 'temp_apache': 5.079250443694923,\n",
       " 'urineoutput_apache': 48.5313890148052,\n",
       " 'wbc_apache': 22.645727851748273,\n",
       " 'd1_diasbp_invasive_max': 73.04101969160321,\n",
       " 'd1_diasbp_invasive_min': 73.04101969160321,\n",
       " 'd1_diasbp_max': 0.21281990211821109,\n",
       " 'd1_diasbp_min': 0.21281990211821109,\n",
       " 'd1_diasbp_noninvasive_max': 1.2569435374201925,\n",
       " 'd1_diasbp_noninvasive_min': 1.2569435374201925,\n",
       " 'd1_heartrate_max': 0.20129535868220688,\n",
       " 'd1_heartrate_min': 0.20129535868220688,\n",
       " 'd1_mbp_invasive_max': 72.8873591124565,\n",
       " 'd1_mbp_invasive_min': 72.8873591124565,\n",
       " 'd1_mbp_max': 0.2512350469048918,\n",
       " 'd1_mbp_min': 0.2512350469048918,\n",
       " 'd1_mbp_noninvasive_max': 1.711778851694492,\n",
       " 'd1_mbp_noninvasive_min': 1.711778851694492,\n",
       " 'd1_resprate_max': 0.5247508777860583,\n",
       " 'd1_resprate_min': 0.5247508777860583,\n",
       " 'd1_spo2_max': 0.40873714053028265,\n",
       " 'd1_spo2_min': 0.40873714053028265,\n",
       " 'd1_sysbp_invasive_max': 73.0179706047312,\n",
       " 'd1_sysbp_invasive_min': 73.0179706047312,\n",
       " 'd1_sysbp_max': 0.2082100847438094,\n",
       " 'd1_sysbp_min': 0.2082100847438094,\n",
       " 'd1_sysbp_noninvasive_max': 1.2469555997756556,\n",
       " 'd1_sysbp_noninvasive_min': 1.2469555997756556,\n",
       " 'd1_temp_max': 3.4527532134268615,\n",
       " 'd1_temp_min': 3.4527532134268615,\n",
       " 'h1_diasbp_invasive_max': 80.54042425685903,\n",
       " 'h1_diasbp_invasive_min': 80.54042425685903,\n",
       " 'h1_diasbp_max': 4.2464101047196845,\n",
       " 'h1_diasbp_min': 4.2464101047196845,\n",
       " 'h1_diasbp_noninvasive_max': 8.71178653472345,\n",
       " 'h1_diasbp_noninvasive_min': 8.71178653472345,\n",
       " 'h1_heartrate_max': 3.1300659972187437,\n",
       " 'h1_heartrate_min': 3.1300659972187437,\n",
       " 'h1_mbp_invasive_max': 80.4920211744278,\n",
       " 'h1_mbp_invasive_min': 80.4920211744278,\n",
       " 'h1_mbp_max': 5.0170179091405,\n",
       " 'h1_mbp_min': 5.0170179091405,\n",
       " 'h1_mbp_noninvasive_max': 10.216123604569866,\n",
       " 'h1_mbp_noninvasive_min': 10.216123604569866,\n",
       " 'h1_resprate_max': 4.958626889064745,\n",
       " 'h1_resprate_min': 4.958626889064745,\n",
       " 'h1_spo2_max': 4.795746675169219,\n",
       " 'h1_spo2_min': 4.795746675169219,\n",
       " 'h1_sysbp_invasive_max': 80.52352159315288,\n",
       " 'h1_sysbp_invasive_min': 80.52352159315288,\n",
       " 'h1_sysbp_max': 4.240263681553816,\n",
       " 'h1_sysbp_min': 4.240263681553816,\n",
       " 'h1_sysbp_noninvasive_max': 8.704871808661848,\n",
       " 'h1_sysbp_noninvasive_min': 8.704871808661848,\n",
       " 'h1_temp_max': 22.82090091197554,\n",
       " 'h1_temp_min': 22.82090091197554,\n",
       " 'd1_albumin_max': 54.86143657275444,\n",
       " 'd1_albumin_min': 54.86143657275444,\n",
       " 'd1_bilirubin_max': 58.95572270411887,\n",
       " 'd1_bilirubin_min': 58.95572270411887,\n",
       " 'd1_bun_max': 10.551871970005456,\n",
       " 'd1_bun_min': 10.551871970005456,\n",
       " 'd1_calcium_max': 12.824511935585486,\n",
       " 'd1_calcium_min': 12.824511935585486,\n",
       " 'd1_creatinine_max': 10.197684335072259,\n",
       " 'd1_creatinine_min': 10.197684335072259,\n",
       " 'd1_glucose_max': 6.33312076953218,\n",
       " 'd1_glucose_min': 6.33312076953218,\n",
       " 'd1_hco3_max': 15.402168150771761,\n",
       " 'd1_hco3_min': 15.402168150771761,\n",
       " 'd1_hemaglobin_max': 12.471092603548023,\n",
       " 'd1_hemaglobin_min': 12.471092603548023,\n",
       " 'd1_hematocrit_max': 11.976305538695575,\n",
       " 'd1_hematocrit_min': 11.976305538695575,\n",
       " 'd1_inr_max': 62.396183071214,\n",
       " 'd1_inr_min': 62.396183071214,\n",
       " 'd1_lactate_max': 73.37523145124734,\n",
       " 'd1_lactate_min': 73.37523145124734,\n",
       " 'd1_platelets_max': 14.257396836128676,\n",
       " 'd1_platelets_min': 14.257396836128676,\n",
       " 'd1_potassium_max': 9.63912812987392,\n",
       " 'd1_potassium_min': 9.63912812987392,\n",
       " 'd1_sodium_max': 10.195379426385058,\n",
       " 'd1_sodium_min': 10.195379426385058,\n",
       " 'd1_wbc_max': 13.390751169741158,\n",
       " 'd1_wbc_min': 13.390751169741158,\n",
       " 'h1_albumin_max': 91.43188610677873,\n",
       " 'h1_albumin_min': 91.43188610677873,\n",
       " 'h1_bilirubin_max': 92.08955338552671,\n",
       " 'h1_bilirubin_min': 92.08955338552671,\n",
       " 'h1_bun_max': 80.66412102307214,\n",
       " 'h1_bun_min': 80.66412102307214,\n",
       " 'h1_calcium_max': 81.37941101900013,\n",
       " 'h1_calcium_min': 81.37941101900013,\n",
       " 'h1_creatinine_max': 80.50585062655101,\n",
       " 'h1_creatinine_min': 80.50585062655101,\n",
       " 'h1_glucose_max': 57.67880329140961,\n",
       " 'h1_glucose_min': 57.67880329140961,\n",
       " 'h1_hco3_max': 81.74358659157787,\n",
       " 'h1_hco3_min': 81.74358659157787,\n",
       " 'h1_hemaglobin_max': 78.97385465245819,\n",
       " 'h1_hemaglobin_min': 78.97385465245819,\n",
       " 'h1_hematocrit_max': 79.10139293314997,\n",
       " 'h1_hematocrit_min': 79.10139293314997,\n",
       " 'h1_inr_max': 62.396183071214,\n",
       " 'h1_inr_min': 62.396183071214,\n",
       " 'h1_lactate_max': 91.01853914887405,\n",
       " 'h1_lactate_min': 91.01853914887405,\n",
       " 'h1_platelets_max': 81.23189686301927,\n",
       " 'h1_platelets_min': 81.23189686301927,\n",
       " 'h1_potassium_max': 77.4610662507587,\n",
       " 'h1_potassium_min': 77.4610662507587,\n",
       " 'h1_sodium_max': 78.19863703066297,\n",
       " 'h1_sodium_min': 78.19863703066297,\n",
       " 'h1_wbc_max': 81.42935070722281,\n",
       " 'h1_wbc_min': 81.42935070722281,\n",
       " 'd1_arterial_pco2_max': 64.89163087655677,\n",
       " 'd1_arterial_pco2_min': 64.89163087655677,\n",
       " 'd1_arterial_ph_max': 65.15746367848061,\n",
       " 'd1_arterial_ph_min': 65.15746367848061,\n",
       " 'd1_arterial_po2_max': 64.54512627058091,\n",
       " 'd1_arterial_po2_min': 64.54512627058091,\n",
       " 'd1_pao2fio2ratio_max': 71.7126239848798,\n",
       " 'd1_pao2fio2ratio_min': 71.7126239848798,\n",
       " 'h1_arterial_pco2_max': 82.72009957205529,\n",
       " 'h1_arterial_pco2_min': 82.72009957205529,\n",
       " 'h1_arterial_ph_max': 82.86069900197454,\n",
       " 'h1_arterial_ph_min': 82.86069900197454,\n",
       " 'h1_arterial_po2_max': 82.55030463209816,\n",
       " 'h1_arterial_po2_min': 82.55030463209816,\n",
       " 'h1_pao2fio2ratio_max': 87.12324346750462,\n",
       " 'h1_pao2fio2ratio_min': 87.12324346750462}"
      ]
     },
     "execution_count": 17,
     "metadata": {},
     "output_type": "execute_result"
    }
   ],
   "source": [
    "numeric_missing = group_attributes_missing_info('numeric')\n",
    "print('Numeric Attributes and Percentage of Missing Values')\n",
    "numeric_missing"
   ]
  },
  {
   "cell_type": "code",
   "execution_count": 18,
   "metadata": {
    "execution": {
     "iopub.execute_input": "2021-02-21T19:10:04.082639Z",
     "iopub.status.busy": "2021-02-21T19:10:04.081708Z",
     "iopub.status.idle": "2021-02-21T19:10:04.172156Z",
     "shell.execute_reply": "2021-02-21T19:10:04.172851Z"
    },
    "papermill": {
     "duration": 0.160451,
     "end_time": "2021-02-21T19:10:04.173045",
     "exception": false,
     "start_time": "2021-02-21T19:10:04.012594",
     "status": "completed"
    },
    "tags": []
   },
   "outputs": [
    {
     "name": "stdout",
     "output_type": "stream",
     "text": [
      "String Attributes and Percentage of Missing Values\n"
     ]
    },
    {
     "data": {
      "text/plain": [
       "{'bmi': 3.449680001843927,\n",
       " 'ethnicity': 1.2192966955292455,\n",
       " 'gender': 0.050707991118418526,\n",
       " 'hospital_admit_source': 25.50611953256452,\n",
       " 'icu_admit_source': 0.18439269497606736,\n",
       " 'icu_stay_type': 0.0,\n",
       " 'icu_type': 0.0,\n",
       " 'apache_2_diagnosis': 1.2945903793111395,\n",
       " 'apache_3j_diagnosis': 0.6645820048095761}"
      ]
     },
     "execution_count": 18,
     "metadata": {},
     "output_type": "execute_result"
    }
   ],
   "source": [
    "string_missing = group_attributes_missing_info('string')\n",
    "print('String Attributes and Percentage of Missing Values')\n",
    "string_missing"
   ]
  },
  {
   "cell_type": "code",
   "execution_count": 19,
   "metadata": {
    "execution": {
     "iopub.execute_input": "2021-02-21T19:10:04.302745Z",
     "iopub.status.busy": "2021-02-21T19:10:04.301821Z",
     "iopub.status.idle": "2021-02-21T19:10:04.315673Z",
     "shell.execute_reply": "2021-02-21T19:10:04.316221Z"
    },
    "papermill": {
     "duration": 0.08038,
     "end_time": "2021-02-21T19:10:04.316387",
     "exception": false,
     "start_time": "2021-02-21T19:10:04.236007",
     "status": "completed"
    },
    "tags": []
   },
   "outputs": [
    {
     "name": "stdout",
     "output_type": "stream",
     "text": [
      "Binary Attributes and Percentage of Missing Values\n"
     ]
    },
    {
     "data": {
      "text/plain": [
       "{'elective_surgery': 0.0,\n",
       " 'readmission_status': 0.0,\n",
       " 'apache_post_operative': 0.0,\n",
       " 'arf_apache': 0.0,\n",
       " 'gcs_unable_apache': 0.5447267530751323,\n",
       " 'intubated_apache': 0.0,\n",
       " 'ventilated_apache': 0.0,\n",
       " 'aids': 0.0,\n",
       " 'cirrhosis': 0.0,\n",
       " 'hepatic_failure': 0.0,\n",
       " 'immunosuppression': 0.0,\n",
       " 'leukemia': 0.0,\n",
       " 'lymphoma': 0.0,\n",
       " 'solid_tumor_with_metastasis': 0.0}"
      ]
     },
     "execution_count": 19,
     "metadata": {},
     "output_type": "execute_result"
    }
   ],
   "source": [
    "binary_missing = group_attributes_missing_info('binary')\n",
    "print('Binary Attributes and Percentage of Missing Values')\n",
    "binary_missing"
   ]
  },
  {
   "cell_type": "markdown",
   "metadata": {
    "papermill": {
     "duration": 0.063705,
     "end_time": "2021-02-21T19:10:04.442263",
     "exception": false,
     "start_time": "2021-02-21T19:10:04.378558",
     "status": "completed"
    },
    "tags": []
   },
   "source": [
    "# Collect and clean up bad features"
   ]
  },
  {
   "cell_type": "markdown",
   "metadata": {
    "papermill": {
     "duration": 0.06425,
     "end_time": "2021-02-21T19:10:04.571069",
     "exception": false,
     "start_time": "2021-02-21T19:10:04.506819",
     "status": "completed"
    },
    "tags": []
   },
   "source": [
    "Concatenate train and test dataframes"
   ]
  },
  {
   "cell_type": "code",
   "execution_count": 20,
   "metadata": {
    "execution": {
     "iopub.execute_input": "2021-02-21T19:10:04.704383Z",
     "iopub.status.busy": "2021-02-21T19:10:04.703270Z",
     "iopub.status.idle": "2021-02-21T19:10:04.847105Z",
     "shell.execute_reply": "2021-02-21T19:10:04.847661Z"
    },
    "papermill": {
     "duration": 0.213397,
     "end_time": "2021-02-21T19:10:04.847862",
     "exception": false,
     "start_time": "2021-02-21T19:10:04.634465",
     "status": "completed"
    },
    "tags": []
   },
   "outputs": [],
   "source": [
    "train_num = len(train_df_X)\n",
    "combined_df = pd.concat([train_df_X, test_df_X])"
   ]
  },
  {
   "cell_type": "markdown",
   "metadata": {
    "papermill": {
     "duration": 0.063667,
     "end_time": "2021-02-21T19:10:04.975363",
     "exception": false,
     "start_time": "2021-02-21T19:10:04.911696",
     "status": "completed"
    },
    "tags": []
   },
   "source": [
    "Taking a shortcut here (checked each column individually in Notebook v1)\n",
    "https://www.kaggle.com/iamleonie/wids-datathon-2021-diabetes-detection"
   ]
  },
  {
   "cell_type": "markdown",
   "metadata": {
    "papermill": {
     "duration": 0.0653,
     "end_time": "2021-02-21T19:10:05.106934",
     "exception": false,
     "start_time": "2021-02-21T19:10:05.041634",
     "status": "completed"
    },
    "tags": []
   },
   "source": [
    "Dropping records from the first hour of labs because of very high percentage of missing values and possible overlap information with the records from first 24 hours."
   ]
  },
  {
   "cell_type": "code",
   "execution_count": 21,
   "metadata": {
    "execution": {
     "iopub.execute_input": "2021-02-21T19:10:05.242496Z",
     "iopub.status.busy": "2021-02-21T19:10:05.241192Z",
     "iopub.status.idle": "2021-02-21T19:10:05.243245Z",
     "shell.execute_reply": "2021-02-21T19:10:05.243745Z"
    },
    "papermill": {
     "duration": 0.07349,
     "end_time": "2021-02-21T19:10:05.243899",
     "exception": false,
     "start_time": "2021-02-21T19:10:05.170409",
     "status": "completed"
    },
    "tags": []
   },
   "outputs": [],
   "source": [
    "hourly_cols = train_df.columns[train_df.columns.str.startswith('h1') | train_df.columns.str.contains('invasive')]"
   ]
  },
  {
   "cell_type": "markdown",
   "metadata": {
    "papermill": {
     "duration": 0.062913,
     "end_time": "2021-02-21T19:10:05.369400",
     "exception": false,
     "start_time": "2021-02-21T19:10:05.306487",
     "status": "completed"
    },
    "tags": []
   },
   "source": [
    "Identify columns with high percentage of missing values"
   ]
  },
  {
   "cell_type": "code",
   "execution_count": 22,
   "metadata": {
    "execution": {
     "iopub.execute_input": "2021-02-21T19:10:05.505967Z",
     "iopub.status.busy": "2021-02-21T19:10:05.504770Z",
     "iopub.status.idle": "2021-02-21T19:10:05.790061Z",
     "shell.execute_reply": "2021-02-21T19:10:05.789459Z"
    },
    "papermill": {
     "duration": 0.356945,
     "end_time": "2021-02-21T19:10:05.790229",
     "exception": false,
     "start_time": "2021-02-21T19:10:05.433284",
     "status": "completed"
    },
    "tags": []
   },
   "outputs": [],
   "source": [
    "def missing_values(df):\n",
    "    missing_cols = {}\n",
    "    for col in df.columns:            \n",
    "        if df[col].isna().sum()>0:\n",
    "            missing_cols[col] = df[col].isna().sum()/len(df)\n",
    "            \n",
    "    return missing_cols\n",
    "\n",
    "missing_cols = missing_values(train_df_X)"
   ]
  },
  {
   "cell_type": "code",
   "execution_count": 23,
   "metadata": {
    "execution": {
     "iopub.execute_input": "2021-02-21T19:10:05.924835Z",
     "iopub.status.busy": "2021-02-21T19:10:05.923869Z",
     "iopub.status.idle": "2021-02-21T19:10:05.927165Z",
     "shell.execute_reply": "2021-02-21T19:10:05.926583Z"
    },
    "papermill": {
     "duration": 0.072285,
     "end_time": "2021-02-21T19:10:05.927304",
     "exception": false,
     "start_time": "2021-02-21T19:10:05.855019",
     "status": "completed"
    },
    "tags": []
   },
   "outputs": [],
   "source": [
    "id_cols = ['encounter_id', 'hospital_id']"
   ]
  },
  {
   "cell_type": "code",
   "execution_count": 24,
   "metadata": {
    "execution": {
     "iopub.execute_input": "2021-02-21T19:10:06.064523Z",
     "iopub.status.busy": "2021-02-21T19:10:06.063620Z",
     "iopub.status.idle": "2021-02-21T19:10:06.066938Z",
     "shell.execute_reply": "2021-02-21T19:10:06.066404Z"
    },
    "papermill": {
     "duration": 0.076106,
     "end_time": "2021-02-21T19:10:06.067084",
     "exception": false,
     "start_time": "2021-02-21T19:10:05.990978",
     "status": "completed"
    },
    "tags": []
   },
   "outputs": [],
   "source": [
    "def cleanup_dataframe(df, id_cols, hourly_cols, missing_cols):\n",
    "    \n",
    "    #Drop Unnamed:0 column\n",
    "    df.drop(['Unnamed: 0'], axis = 1, inplace = True)\n",
    "    \n",
    "    #Drop id columns\n",
    "    df.drop(id_cols, axis = 1, inplace = True)\n",
    "    \n",
    "    #As readmission status takes only 0 value in the training set, dropping that feature\n",
    "    df.drop(['readmission_status'], axis = 1, inplace = True)\n",
    "    \n",
    "    #Drop hourly columns\n",
    "    df.drop(hourly_cols, axis = 1, inplace=True)\n",
    "    \n",
    "    #Drop columns with more than 85% missing values\n",
    "    high_missing_cols = []\n",
    "    for col in df.columns:\n",
    "        if col in missing_cols and missing_cols[col]>0.85:\n",
    "            high_missing_cols.append(col)\n",
    "            \n",
    "    df.drop(high_missing_cols, axis = 1, inplace = True)\n",
    "    \n",
    "    return df       \n",
    "    "
   ]
  },
  {
   "cell_type": "code",
   "execution_count": 25,
   "metadata": {
    "execution": {
     "iopub.execute_input": "2021-02-21T19:10:06.206051Z",
     "iopub.status.busy": "2021-02-21T19:10:06.204541Z",
     "iopub.status.idle": "2021-02-21T19:10:06.646540Z",
     "shell.execute_reply": "2021-02-21T19:10:06.645750Z"
    },
    "papermill": {
     "duration": 0.513519,
     "end_time": "2021-02-21T19:10:06.646699",
     "exception": false,
     "start_time": "2021-02-21T19:10:06.133180",
     "status": "completed"
    },
    "tags": []
   },
   "outputs": [],
   "source": [
    "cleaned_df = cleanup_dataframe(combined_df, id_cols, hourly_cols, missing_cols)"
   ]
  },
  {
   "cell_type": "markdown",
   "metadata": {
    "papermill": {
     "duration": 0.06338,
     "end_time": "2021-02-21T19:10:06.773795",
     "exception": false,
     "start_time": "2021-02-21T19:10:06.710415",
     "status": "completed"
    },
    "tags": []
   },
   "source": [
    "# Impute demographics"
   ]
  },
  {
   "cell_type": "markdown",
   "metadata": {
    "papermill": {
     "duration": 0.063297,
     "end_time": "2021-02-21T19:10:06.902296",
     "exception": false,
     "start_time": "2021-02-21T19:10:06.838999",
     "status": "completed"
    },
    "tags": []
   },
   "source": [
    "Impute the missing age with the average age of people in United States"
   ]
  },
  {
   "cell_type": "code",
   "execution_count": 26,
   "metadata": {
    "execution": {
     "iopub.execute_input": "2021-02-21T19:10:07.058549Z",
     "iopub.status.busy": "2021-02-21T19:10:07.057374Z",
     "iopub.status.idle": "2021-02-21T19:10:07.371561Z",
     "shell.execute_reply": "2021-02-21T19:10:07.370872Z"
    },
    "papermill": {
     "duration": 0.404553,
     "end_time": "2021-02-21T19:10:07.371720",
     "exception": false,
     "start_time": "2021-02-21T19:10:06.967167",
     "status": "completed"
    },
    "tags": []
   },
   "outputs": [],
   "source": [
    "avg_female_height = train_df_X[train_df_X.gender == 'F'].height.mean(skipna = True)\n",
    "avg_male_height = train_df_X[train_df_X.gender == 'M'].height.mean(skipna = True)\n",
    "\n",
    "avg_female_weight = train_df_X[train_df_X.gender == 'F'].weight.mean(skipna = True)\n",
    "avg_male_weight = train_df_X[train_df_X.gender == 'M'].weight.mean(skipna = True)\n",
    "\n",
    "avg_pop_height = 0.5*(avg_female_height + avg_male_height)\n",
    "avg_pop_weight = 0.5*(avg_female_weight + avg_male_weight)"
   ]
  },
  {
   "cell_type": "code",
   "execution_count": 27,
   "metadata": {
    "execution": {
     "iopub.execute_input": "2021-02-21T19:10:07.523374Z",
     "iopub.status.busy": "2021-02-21T19:10:07.516623Z",
     "iopub.status.idle": "2021-02-21T19:10:07.526445Z",
     "shell.execute_reply": "2021-02-21T19:10:07.525722Z"
    },
    "papermill": {
     "duration": 0.089292,
     "end_time": "2021-02-21T19:10:07.526586",
     "exception": false,
     "start_time": "2021-02-21T19:10:07.437294",
     "status": "completed"
    },
    "tags": []
   },
   "outputs": [],
   "source": [
    "def impute_demographics(df, no_nan_val = False):\n",
    "    \n",
    "    #impute missing age with average age of people in US\n",
    "    df['age'] = df['age'].fillna(38)\n",
    "    \n",
    "    #impute height, weight and bmi from average population information\n",
    "    df[\"height\"] = np.where((df.height.isna() & (df.gender == 'F')), avg_female_height, df[\"height\"])\n",
    "    df[\"height\"] = np.where((df.height.isna() & (df.gender == 'M')), avg_male_height, df[\"height\"])\n",
    "    df[\"height\"] = np.where((df.height.isna() & (df.gender.isna())), avg_pop_height, df[\"height\"])\n",
    "\n",
    "    df[\"weight\"] = np.where((df.weight.isna() & (df.gender == 'F')), avg_female_weight, df[\"weight\"])\n",
    "    df[\"weight\"] = np.where((df.weight.isna() & (df.gender == 'M')), avg_male_weight, df[\"weight\"])\n",
    "    df[\"weight\"] = np.where((df.weight.isna() & (df.gender.isna())), avg_pop_weight, df[\"weight\"])\n",
    "\n",
    "    df['bmi'] = np.where((df.bmi.isna() & (df.gender == 'F')),\n",
    "                                avg_female_weight/(avg_female_height/100)**2, df['bmi'])\n",
    "    df['bmi'] = np.where((df.bmi.isna() & (df.gender == 'M')),\n",
    "                                avg_male_weight/(avg_male_height/100)**2, df['bmi'])\n",
    "    df['bmi'] = np.where((df.bmi.isna() & df.gender.isna()),\n",
    "                                avg_pop_weight/(avg_pop_height/100)**2, df['bmi'])\n",
    "    \n",
    "    # impute blood 02 level with standard values\n",
    "    df['d1_spo2_max'] = df['d1_spo2_max'].fillna(95)\n",
    "    df['d1_spo2_min'] = df['d1_spo2_min'].fillna(90)\n",
    "    \n",
    "    #impute missing demographic information\n",
    "    df['ethnicity'] = df['ethnicity'].fillna('Unknown')\n",
    "    df['gender'] = df['gender'].fillna('Unknown')\n",
    "    df['icu_admit_source'] = df['icu_admit_source'].fillna('Unknown')\n",
    "    df['hospital_admit_source'] = df['hospital_admit_source'].fillna('Unknown')\n",
    "    \n",
    "    #Pass no_nan_val true if want no missing value before passing to learning algorithm\n",
    "    if no_nan_val:\n",
    "        numeric_cols = df.select_dtypes('float64').columns\n",
    "        categorical_cols = df.select_dtypes('object').columns\n",
    "        binary_cols = df.select_dtypes('int64').columns\n",
    "        \n",
    "        for col in numeric_cols:\n",
    "            if df[col].isna().sum()>0:\n",
    "                df[col] = df[col].fillna(df[col].median())\n",
    "\n",
    "        for col in categorical_cols:\n",
    "            if df[col].isna().sum()>0:\n",
    "                df[col] = df[col].fillna(df[col].mode().iloc[0])      \n",
    "\n",
    "        for col in binary_cols:\n",
    "            if df[col].isna().sum()>0:\n",
    "                df[col] = df[col].fillna(-1)\n",
    "                \n",
    "\n",
    "    return df"
   ]
  },
  {
   "cell_type": "code",
   "execution_count": 28,
   "metadata": {
    "execution": {
     "iopub.execute_input": "2021-02-21T19:10:07.659465Z",
     "iopub.status.busy": "2021-02-21T19:10:07.658730Z",
     "iopub.status.idle": "2021-02-21T19:10:08.286569Z",
     "shell.execute_reply": "2021-02-21T19:10:08.285883Z"
    },
    "papermill": {
     "duration": 0.696682,
     "end_time": "2021-02-21T19:10:08.286722",
     "exception": false,
     "start_time": "2021-02-21T19:10:07.590040",
     "status": "completed"
    },
    "tags": []
   },
   "outputs": [],
   "source": [
    "cleaned_df = impute_demographics(cleaned_df, no_nan_val = True)"
   ]
  },
  {
   "cell_type": "markdown",
   "metadata": {
    "papermill": {
     "duration": 0.065413,
     "end_time": "2021-02-21T19:10:08.417925",
     "exception": false,
     "start_time": "2021-02-21T19:10:08.352512",
     "status": "completed"
    },
    "tags": []
   },
   "source": [
    "Check if any column is still missing values (need this checkpoint only when imputing all missing features)"
   ]
  },
  {
   "cell_type": "code",
   "execution_count": 29,
   "metadata": {
    "execution": {
     "iopub.execute_input": "2021-02-21T19:10:08.554937Z",
     "iopub.status.busy": "2021-02-21T19:10:08.553765Z",
     "iopub.status.idle": "2021-02-21T19:10:08.689024Z",
     "shell.execute_reply": "2021-02-21T19:10:08.689606Z"
    },
    "papermill": {
     "duration": 0.206533,
     "end_time": "2021-02-21T19:10:08.689814",
     "exception": false,
     "start_time": "2021-02-21T19:10:08.483281",
     "status": "completed"
    },
    "tags": []
   },
   "outputs": [
    {
     "name": "stdout",
     "output_type": "stream",
     "text": [
      "[]\n"
     ]
    }
   ],
   "source": [
    "col_missing = []\n",
    "for col in cleaned_df.columns:\n",
    "    if cleaned_df[col].isna().sum()>0:\n",
    "        col_missing.append(col)\n",
    "\n",
    "print(col_missing)"
   ]
  },
  {
   "cell_type": "markdown",
   "metadata": {
    "papermill": {
     "duration": 0.066764,
     "end_time": "2021-02-21T19:10:08.823417",
     "exception": false,
     "start_time": "2021-02-21T19:10:08.756653",
     "status": "completed"
    },
    "tags": []
   },
   "source": [
    "# Feature Engineering"
   ]
  },
  {
   "cell_type": "markdown",
   "metadata": {
    "papermill": {
     "duration": 0.065856,
     "end_time": "2021-02-21T19:10:08.955789",
     "exception": false,
     "start_time": "2021-02-21T19:10:08.889933",
     "status": "completed"
    },
    "tags": []
   },
   "source": [
    "Add marker for low levels of creatinine, liver disorders and also features such as range/ratio of min and max recorded lab values"
   ]
  },
  {
   "cell_type": "code",
   "execution_count": 30,
   "metadata": {
    "execution": {
     "iopub.execute_input": "2021-02-21T19:10:09.096099Z",
     "iopub.status.busy": "2021-02-21T19:10:09.095152Z",
     "iopub.status.idle": "2021-02-21T19:10:09.099088Z",
     "shell.execute_reply": "2021-02-21T19:10:09.099682Z"
    },
    "papermill": {
     "duration": 0.079562,
     "end_time": "2021-02-21T19:10:09.099872",
     "exception": false,
     "start_time": "2021-02-21T19:10:09.020310",
     "status": "completed"
    },
    "tags": []
   },
   "outputs": [
    {
     "name": "stdout",
     "output_type": "stream",
     "text": [
      "24     micromol/L\n",
      "105    micromol/L\n",
      "106    micromol/L\n",
      "135    micromol/L\n",
      "136    micromol/L\n",
      "Name: Unit of Measure, dtype: object\n"
     ]
    }
   ],
   "source": [
    "unit_of_creatinine = data_dict[data_dict['Variable Name'].str.contains('creatinine')]['Unit of Measure']\n",
    "print(unit_of_creatinine)"
   ]
  },
  {
   "cell_type": "code",
   "execution_count": 31,
   "metadata": {
    "execution": {
     "iopub.execute_input": "2021-02-21T19:10:09.241911Z",
     "iopub.status.busy": "2021-02-21T19:10:09.241069Z",
     "iopub.status.idle": "2021-02-21T19:10:09.245689Z",
     "shell.execute_reply": "2021-02-21T19:10:09.245121Z"
    },
    "papermill": {
     "duration": 0.078344,
     "end_time": "2021-02-21T19:10:09.245833",
     "exception": false,
     "start_time": "2021-02-21T19:10:09.167489",
     "status": "completed"
    },
    "tags": []
   },
   "outputs": [
    {
     "name": "stdout",
     "output_type": "stream",
     "text": [
      "22     micromol/L\n",
      "99     micromol/L\n",
      "100    micromol/L\n",
      "129    micromol/L\n",
      "130    micromol/L\n",
      "Name: Unit of Measure, dtype: object\n"
     ]
    }
   ],
   "source": [
    "unit_of_bilirubin = data_dict[data_dict['Variable Name'].str.contains('bilirubin')]['Unit of Measure']\n",
    "print(unit_of_bilirubin)"
   ]
  },
  {
   "cell_type": "code",
   "execution_count": 32,
   "metadata": {
    "execution": {
     "iopub.execute_input": "2021-02-21T19:10:09.385629Z",
     "iopub.status.busy": "2021-02-21T19:10:09.384626Z",
     "iopub.status.idle": "2021-02-21T19:10:09.387915Z",
     "shell.execute_reply": "2021-02-21T19:10:09.387424Z"
    },
    "papermill": {
     "duration": 0.076418,
     "end_time": "2021-02-21T19:10:09.388053",
     "exception": false,
     "start_time": "2021-02-21T19:10:09.311635",
     "status": "completed"
    },
    "tags": []
   },
   "outputs": [],
   "source": [
    "min_feat = [col for col in cleaned_df.columns if '_min' in col]\n",
    "max_feat = [col for col in cleaned_df.columns if '_max' in col]\n",
    "\n",
    "assert(len(min_feat) == len(max_feat))"
   ]
  },
  {
   "cell_type": "code",
   "execution_count": 33,
   "metadata": {
    "execution": {
     "iopub.execute_input": "2021-02-21T19:10:09.536200Z",
     "iopub.status.busy": "2021-02-21T19:10:09.535061Z",
     "iopub.status.idle": "2021-02-21T19:10:09.538355Z",
     "shell.execute_reply": "2021-02-21T19:10:09.537780Z"
    },
    "papermill": {
     "duration": 0.082589,
     "end_time": "2021-02-21T19:10:09.538514",
     "exception": false,
     "start_time": "2021-02-21T19:10:09.455925",
     "status": "completed"
    },
    "tags": []
   },
   "outputs": [],
   "source": [
    "def add_features(df, labs = min_feat):\n",
    "    for i in labs:\n",
    "        a=i\n",
    "        b = i.replace('_min','_max')\n",
    "        \n",
    "        new_col=(str(i).replace('_min',''))+'_diff'\n",
    "        df[new_col]=df[b]-df[a]\n",
    "        \n",
    "        new_col_ratio=(str(i).replace('_min',''))+'_ratio'\n",
    "        df[new_col_ratio]=df[b]/(df[a]+0.0000000001)\n",
    "        \n",
    "        #Flag for high glucose level\n",
    "        df['glucose_flag']=np.where(df['d1_glucose_min']>(120*.0555),1,0)\n",
    "        \n",
    "        #Flag for low creatinine level\n",
    "        df['creatinine_flag'] = np.where(df['d1_creatinine_max']<(0.60/0.0113), 1, 0)\n",
    "        \n",
    "        #Flag for liver disorders\n",
    "        df['liver_disorder'] = np.where((df['hepatic_failure'] == 1) & (df['cirrhosis'] == 1), 1, 0)\n",
    "        \n",
    "#         df['weight_age_ratio'] = df['weight']/df['age']\n",
    "#         df['age_bmi_ratio'] = df['age']/df['bmi']\n",
    "\n",
    "        #Flag for high bilirubin\n",
    "        df['bilirubin_flag'] = np.where(df['d1_bilirubin_min']>(1.2/0.0113), 1, 0)\n",
    "        \n",
    "        #Flag for high basal metabolic index\n",
    "        df['bmi_flag'] = np.where(df['bmi']>25.0, 1, 0)\n",
    "\n",
    "    return df"
   ]
  },
  {
   "cell_type": "code",
   "execution_count": 34,
   "metadata": {
    "execution": {
     "iopub.execute_input": "2021-02-21T19:10:09.680544Z",
     "iopub.status.busy": "2021-02-21T19:10:09.679243Z",
     "iopub.status.idle": "2021-02-21T19:10:09.962898Z",
     "shell.execute_reply": "2021-02-21T19:10:09.961806Z"
    },
    "papermill": {
     "duration": 0.357082,
     "end_time": "2021-02-21T19:10:09.963063",
     "exception": false,
     "start_time": "2021-02-21T19:10:09.605981",
     "status": "completed"
    },
    "tags": []
   },
   "outputs": [],
   "source": [
    "cleaned_df = add_features(cleaned_df)"
   ]
  },
  {
   "cell_type": "code",
   "execution_count": 35,
   "metadata": {
    "execution": {
     "iopub.execute_input": "2021-02-21T19:10:10.115506Z",
     "iopub.status.busy": "2021-02-21T19:10:10.114673Z",
     "iopub.status.idle": "2021-02-21T19:10:10.120365Z",
     "shell.execute_reply": "2021-02-21T19:10:10.119612Z"
    },
    "papermill": {
     "duration": 0.088965,
     "end_time": "2021-02-21T19:10:10.120538",
     "exception": false,
     "start_time": "2021-02-21T19:10:10.031573",
     "status": "completed"
    },
    "tags": []
   },
   "outputs": [
    {
     "name": "stdout",
     "output_type": "stream",
     "text": [
      "['ethnicity', 'gender', 'hospital_admit_source', 'icu_admit_source', 'icu_stay_type', 'icu_type']\n"
     ]
    }
   ],
   "source": [
    "str_cat_cols = []\n",
    "for i, col in enumerate(cleaned_df.columns):\n",
    "    if cleaned_df[col].dtypes == np.object:\n",
    "        str_cat_cols.append(col)\n",
    "        \n",
    "print(str_cat_cols)"
   ]
  },
  {
   "cell_type": "code",
   "execution_count": 36,
   "metadata": {
    "execution": {
     "iopub.execute_input": "2021-02-21T19:10:10.274859Z",
     "iopub.status.busy": "2021-02-21T19:10:10.273936Z",
     "iopub.status.idle": "2021-02-21T19:10:12.286206Z",
     "shell.execute_reply": "2021-02-21T19:10:12.286861Z"
    },
    "papermill": {
     "duration": 2.097912,
     "end_time": "2021-02-21T19:10:12.287094",
     "exception": false,
     "start_time": "2021-02-21T19:10:10.189182",
     "status": "completed"
    },
    "tags": []
   },
   "outputs": [],
   "source": [
    "for col in str_cat_cols:\n",
    "    dummies = pd.get_dummies(cleaned_df[col], prefix=col, drop_first=True).astype('int64')\n",
    "    cleaned_df = pd.concat([cleaned_df, dummies],axis=1)\n",
    "    cleaned_df.drop(col, axis=1, inplace=True)"
   ]
  },
  {
   "cell_type": "code",
   "execution_count": 37,
   "metadata": {
    "execution": {
     "iopub.execute_input": "2021-02-21T19:10:12.483550Z",
     "iopub.status.busy": "2021-02-21T19:10:12.482518Z",
     "iopub.status.idle": "2021-02-21T19:10:12.690017Z",
     "shell.execute_reply": "2021-02-21T19:10:12.690741Z"
    },
    "papermill": {
     "duration": 0.311898,
     "end_time": "2021-02-21T19:10:12.690971",
     "exception": false,
     "start_time": "2021-02-21T19:10:12.379073",
     "status": "completed"
    },
    "tags": []
   },
   "outputs": [],
   "source": [
    "for col in cleaned_df.columns:\n",
    "    if np.isinf(cleaned_df[col]).values.sum()>0:\n",
    "        print(col)"
   ]
  },
  {
   "cell_type": "code",
   "execution_count": 38,
   "metadata": {
    "execution": {
     "iopub.execute_input": "2021-02-21T19:10:12.891664Z",
     "iopub.status.busy": "2021-02-21T19:10:12.889980Z",
     "iopub.status.idle": "2021-02-21T19:10:12.892430Z",
     "shell.execute_reply": "2021-02-21T19:10:12.892973Z"
    },
    "papermill": {
     "duration": 0.113623,
     "end_time": "2021-02-21T19:10:12.893166",
     "exception": false,
     "start_time": "2021-02-21T19:10:12.779543",
     "status": "completed"
    },
    "tags": []
   },
   "outputs": [],
   "source": [
    "train_df_X = cleaned_df[:train_num]\n",
    "test_df_X = cleaned_df[train_num:]"
   ]
  },
  {
   "cell_type": "code",
   "execution_count": 39,
   "metadata": {
    "execution": {
     "iopub.execute_input": "2021-02-21T19:10:13.034130Z",
     "iopub.status.busy": "2021-02-21T19:10:13.033235Z",
     "iopub.status.idle": "2021-02-21T19:10:13.442851Z",
     "shell.execute_reply": "2021-02-21T19:10:13.442067Z"
    },
    "papermill": {
     "duration": 0.482023,
     "end_time": "2021-02-21T19:10:13.443017",
     "exception": false,
     "start_time": "2021-02-21T19:10:12.960994",
     "status": "completed"
    },
    "tags": []
   },
   "outputs": [],
   "source": [
    "import catboost\n",
    "from catboost import CatBoost, Pool, CatBoostClassifier\n",
    "from sklearn.model_selection import train_test_split\n",
    "from sklearn.metrics import roc_auc_score"
   ]
  },
  {
   "cell_type": "code",
   "execution_count": 40,
   "metadata": {
    "execution": {
     "iopub.execute_input": "2021-02-21T19:10:13.585927Z",
     "iopub.status.busy": "2021-02-21T19:10:13.585278Z",
     "iopub.status.idle": "2021-02-21T19:10:23.091788Z",
     "shell.execute_reply": "2021-02-21T19:10:23.093073Z"
    },
    "papermill": {
     "duration": 9.582343,
     "end_time": "2021-02-21T19:10:23.093376",
     "exception": false,
     "start_time": "2021-02-21T19:10:13.511033",
     "status": "completed"
    },
    "tags": []
   },
   "outputs": [
    {
     "name": "stdout",
     "output_type": "stream",
     "text": [
      "Requirement already satisfied: imbalanced-learn in /opt/conda/lib/python3.7/site-packages (0.7.0)\r\n",
      "Requirement already satisfied: numpy>=1.13.3 in /opt/conda/lib/python3.7/site-packages (from imbalanced-learn) (1.19.5)\r\n",
      "Requirement already satisfied: joblib>=0.11 in /opt/conda/lib/python3.7/site-packages (from imbalanced-learn) (1.0.0)\r\n",
      "Requirement already satisfied: scipy>=0.19.1 in /opt/conda/lib/python3.7/site-packages (from imbalanced-learn) (1.4.1)\r\n",
      "Requirement already satisfied: scikit-learn>=0.23 in /opt/conda/lib/python3.7/site-packages (from imbalanced-learn) (0.23.2)\r\n",
      "Requirement already satisfied: threadpoolctl>=2.0.0 in /opt/conda/lib/python3.7/site-packages (from scikit-learn>=0.23->imbalanced-learn) (2.1.0)\r\n",
      "\u001b[33mWARNING: You are using pip version 21.0; however, version 21.0.1 is available.\r\n",
      "You should consider upgrading via the '/opt/conda/bin/python3.7 -m pip install --upgrade pip' command.\u001b[0m\r\n",
      "0.7.0\n"
     ]
    }
   ],
   "source": [
    "!pip install imbalanced-learn\n",
    "\n",
    "# check version number\n",
    "import imblearn\n",
    "print(imblearn.__version__)"
   ]
  },
  {
   "cell_type": "code",
   "execution_count": 41,
   "metadata": {
    "execution": {
     "iopub.execute_input": "2021-02-21T19:10:23.275692Z",
     "iopub.status.busy": "2021-02-21T19:10:23.274697Z",
     "iopub.status.idle": "2021-02-21T19:10:23.277190Z",
     "shell.execute_reply": "2021-02-21T19:10:23.276474Z"
    },
    "papermill": {
     "duration": 0.102521,
     "end_time": "2021-02-21T19:10:23.277364",
     "exception": false,
     "start_time": "2021-02-21T19:10:23.174843",
     "status": "completed"
    },
    "tags": []
   },
   "outputs": [],
   "source": [
    "# X_train, X_val, y_train, y_val = train_test_split(train_df_X, train_df_y, test_size=0.2, random_state=123)"
   ]
  },
  {
   "cell_type": "code",
   "execution_count": 42,
   "metadata": {
    "execution": {
     "iopub.execute_input": "2021-02-21T19:10:23.490870Z",
     "iopub.status.busy": "2021-02-21T19:10:23.489781Z",
     "iopub.status.idle": "2021-02-21T19:10:23.492934Z",
     "shell.execute_reply": "2021-02-21T19:10:23.492022Z"
    },
    "papermill": {
     "duration": 0.120365,
     "end_time": "2021-02-21T19:10:23.493172",
     "exception": false,
     "start_time": "2021-02-21T19:10:23.372807",
     "status": "completed"
    },
    "tags": []
   },
   "outputs": [],
   "source": [
    "X_train, y_train = train_df_X, train_df_y\n",
    "X_test = test_df_X"
   ]
  },
  {
   "cell_type": "code",
   "execution_count": 43,
   "metadata": {
    "execution": {
     "iopub.execute_input": "2021-02-21T19:10:23.644288Z",
     "iopub.status.busy": "2021-02-21T19:10:23.643358Z",
     "iopub.status.idle": "2021-02-21T19:10:23.646925Z",
     "shell.execute_reply": "2021-02-21T19:10:23.647503Z"
    },
    "papermill": {
     "duration": 0.083497,
     "end_time": "2021-02-21T19:10:23.647665",
     "exception": false,
     "start_time": "2021-02-21T19:10:23.564168",
     "status": "completed"
    },
    "tags": []
   },
   "outputs": [
    {
     "name": "stdout",
     "output_type": "stream",
     "text": [
      "['elective_surgery', 'icu_id', 'apache_post_operative', 'arf_apache', 'intubated_apache', 'ventilated_apache', 'aids', 'cirrhosis', 'hepatic_failure', 'immunosuppression', 'leukemia', 'lymphoma', 'solid_tumor_with_metastasis', 'glucose_flag', 'creatinine_flag', 'liver_disorder', 'bilirubin_flag', 'bmi_flag', 'ethnicity_Asian', 'ethnicity_Caucasian', 'ethnicity_Hispanic', 'ethnicity_Native American', 'ethnicity_Other/Unknown', 'ethnicity_Unknown', 'gender_M', 'gender_Unknown', 'hospital_admit_source_Chest Pain Center', 'hospital_admit_source_Direct Admit', 'hospital_admit_source_Emergency Department', 'hospital_admit_source_Floor', 'hospital_admit_source_ICU', 'hospital_admit_source_ICU to SDU', 'hospital_admit_source_Observation', 'hospital_admit_source_Operating Room', 'hospital_admit_source_Other', 'hospital_admit_source_Other Hospital', 'hospital_admit_source_Other ICU', 'hospital_admit_source_PACU', 'hospital_admit_source_Recovery Room', 'hospital_admit_source_Step-Down Unit (SDU)', 'hospital_admit_source_Unknown', 'icu_admit_source_Floor', 'icu_admit_source_Operating Room / Recovery', 'icu_admit_source_Other Hospital', 'icu_admit_source_Other ICU', 'icu_admit_source_Unknown', 'icu_stay_type_readmit', 'icu_stay_type_transfer', 'icu_type_CSICU', 'icu_type_CTICU', 'icu_type_Cardiac ICU', 'icu_type_MICU', 'icu_type_Med-Surg ICU', 'icu_type_Neuro ICU', 'icu_type_SICU']\n"
     ]
    }
   ],
   "source": [
    "cat_cols = []\n",
    "cat_cols_index = []\n",
    "for i, col in enumerate(cleaned_df.columns):\n",
    "    if cleaned_df[col].dtypes == np.object or cleaned_df[col].dtypes == np.int64:\n",
    "        cat_cols.append(col)\n",
    "        cat_cols_index.append(i)\n",
    "        \n",
    "print(cat_cols)"
   ]
  },
  {
   "cell_type": "code",
   "execution_count": 44,
   "metadata": {
    "execution": {
     "iopub.execute_input": "2021-02-21T19:10:23.794655Z",
     "iopub.status.busy": "2021-02-21T19:10:23.793686Z",
     "iopub.status.idle": "2021-02-21T19:23:16.276549Z",
     "shell.execute_reply": "2021-02-21T19:23:16.277107Z"
    },
    "papermill": {
     "duration": 772.559352,
     "end_time": "2021-02-21T19:23:16.277312",
     "exception": false,
     "start_time": "2021-02-21T19:10:23.717960",
     "status": "completed"
    },
    "tags": []
   },
   "outputs": [
    {
     "name": "stdout",
     "output_type": "stream",
     "text": [
      "Done.......................\n"
     ]
    }
   ],
   "source": [
    "from imblearn.over_sampling import SMOTENC\n",
    "\n",
    "smote = SMOTENC(categorical_features = cat_cols_index, random_state = 7, sampling_strategy = 0.7)\n",
    "\n",
    "# transform the dataset\n",
    "X_train, y_train = smote.fit_resample(X_train, y_train)\n",
    "print('Done.......................')"
   ]
  },
  {
   "cell_type": "code",
   "execution_count": 45,
   "metadata": {
    "execution": {
     "iopub.execute_input": "2021-02-21T19:23:16.421783Z",
     "iopub.status.busy": "2021-02-21T19:23:16.420783Z",
     "iopub.status.idle": "2021-02-21T19:23:16.423892Z",
     "shell.execute_reply": "2021-02-21T19:23:16.423364Z"
    },
    "papermill": {
     "duration": 0.07792,
     "end_time": "2021-02-21T19:23:16.424033",
     "exception": false,
     "start_time": "2021-02-21T19:23:16.346113",
     "status": "completed"
    },
    "tags": []
   },
   "outputs": [],
   "source": [
    "# params = {'learning_rate':0.6, 'depth':5, 'iterations':100, \n",
    "#           'loss_function':'CrossEntropy'}\n",
    "\n",
    "# model = CatBoost(params)\n",
    "\n",
    "# model.fit(X_train, y_train, cat_features = cat_cols)\n",
    "# preds_probs = model.predict(X_train, prediction_type='Probability')\n",
    "\n",
    "# roc = roc_auc_score(y_train, preds_probs[:,1])\n",
    "# roc"
   ]
  },
  {
   "cell_type": "code",
   "execution_count": 46,
   "metadata": {
    "execution": {
     "iopub.execute_input": "2021-02-21T19:23:16.570466Z",
     "iopub.status.busy": "2021-02-21T19:23:16.569493Z",
     "iopub.status.idle": "2021-02-21T19:23:16.572284Z",
     "shell.execute_reply": "2021-02-21T19:23:16.572860Z"
    },
    "papermill": {
     "duration": 0.078641,
     "end_time": "2021-02-21T19:23:16.573023",
     "exception": false,
     "start_time": "2021-02-21T19:23:16.494382",
     "status": "completed"
    },
    "tags": []
   },
   "outputs": [],
   "source": [
    "# cat_cols = []\n",
    "# for i, col in enumerate(cleaned_df.columns):\n",
    "#     if cleaned_df[col].dtypes == np.object or cleaned_df[col].dtypes == np.int64:\n",
    "#         cat_cols.append(col)\n",
    "        \n",
    "# print(cat_cols)"
   ]
  },
  {
   "cell_type": "code",
   "execution_count": 47,
   "metadata": {
    "execution": {
     "iopub.execute_input": "2021-02-21T19:23:16.719003Z",
     "iopub.status.busy": "2021-02-21T19:23:16.717972Z",
     "iopub.status.idle": "2021-02-21T19:23:16.721193Z",
     "shell.execute_reply": "2021-02-21T19:23:16.720543Z"
    },
    "papermill": {
     "duration": 0.077828,
     "end_time": "2021-02-21T19:23:16.721329",
     "exception": false,
     "start_time": "2021-02-21T19:23:16.643501",
     "status": "completed"
    },
    "tags": []
   },
   "outputs": [],
   "source": [
    "# grid = {'learning_rate': [0.025, 0.05, 0.1, 0.2],\n",
    "#         'depth': [4, 6, 8, 10],\n",
    "#          'iterations':[50, 100, 150, 200]}\n",
    "\n",
    "# train_data = Pool(data = X_train, label = y_train, cat_features = cat_cols)\n",
    "\n",
    "# cb_model = CatBoostClassifier(loss_function = 'CrossEntropy', \n",
    "#                              task_type = 'GPU', devices = '0:2')\n",
    "# grid_search_result = cb_model.grid_search(grid, train_data, cv = 10, plot=True)"
   ]
  },
  {
   "cell_type": "code",
   "execution_count": 48,
   "metadata": {
    "execution": {
     "iopub.execute_input": "2021-02-21T19:23:16.868827Z",
     "iopub.status.busy": "2021-02-21T19:23:16.867819Z",
     "iopub.status.idle": "2021-02-21T19:23:16.871110Z",
     "shell.execute_reply": "2021-02-21T19:23:16.870585Z"
    },
    "papermill": {
     "duration": 0.078982,
     "end_time": "2021-02-21T19:23:16.871280",
     "exception": false,
     "start_time": "2021-02-21T19:23:16.792298",
     "status": "completed"
    },
    "tags": []
   },
   "outputs": [],
   "source": [
    "# parameters = grid_search_result['params']\n",
    "# parameters"
   ]
  },
  {
   "cell_type": "code",
   "execution_count": 49,
   "metadata": {
    "execution": {
     "iopub.execute_input": "2021-02-21T19:23:17.020174Z",
     "iopub.status.busy": "2021-02-21T19:23:17.019203Z",
     "iopub.status.idle": "2021-02-21T19:23:17.022426Z",
     "shell.execute_reply": "2021-02-21T19:23:17.021878Z"
    },
    "papermill": {
     "duration": 0.079145,
     "end_time": "2021-02-21T19:23:17.022573",
     "exception": false,
     "start_time": "2021-02-21T19:23:16.943428",
     "status": "completed"
    },
    "tags": []
   },
   "outputs": [],
   "source": [
    "# cb_model_2 = CatBoostClassifier(iterations = parameters['iterations'],\n",
    "#                                 learning_rate = parameters['learning_rate'],\n",
    "#                                 depth = parameters['depth'], loss_function = 'CrossEntropy')"
   ]
  },
  {
   "cell_type": "code",
   "execution_count": 50,
   "metadata": {
    "execution": {
     "iopub.execute_input": "2021-02-21T19:23:17.626205Z",
     "iopub.status.busy": "2021-02-21T19:23:17.423823Z",
     "iopub.status.idle": "2021-02-21T19:24:45.915689Z",
     "shell.execute_reply": "2021-02-21T19:24:45.915053Z"
    },
    "papermill": {
     "duration": 88.819014,
     "end_time": "2021-02-21T19:24:45.915845",
     "exception": false,
     "start_time": "2021-02-21T19:23:17.096831",
     "status": "completed"
    },
    "tags": []
   },
   "outputs": [
    {
     "name": "stdout",
     "output_type": "stream",
     "text": [
      "0:\tlearn: 0.6006036\ttotal: 668ms\tremaining: 2m 12s\n",
      "1:\tlearn: 0.5480425\ttotal: 1.38s\tremaining: 2m 17s\n",
      "2:\tlearn: 0.5020309\ttotal: 1.82s\tremaining: 1m 59s\n",
      "3:\tlearn: 0.4808147\ttotal: 2.23s\tremaining: 1m 49s\n",
      "4:\tlearn: 0.4529934\ttotal: 2.64s\tremaining: 1m 43s\n",
      "5:\tlearn: 0.4418524\ttotal: 3.07s\tremaining: 1m 39s\n",
      "6:\tlearn: 0.4114872\ttotal: 3.46s\tremaining: 1m 35s\n",
      "7:\tlearn: 0.4041040\ttotal: 3.87s\tremaining: 1m 32s\n",
      "8:\tlearn: 0.3927683\ttotal: 4.23s\tremaining: 1m 29s\n",
      "9:\tlearn: 0.3794427\ttotal: 4.65s\tremaining: 1m 28s\n",
      "10:\tlearn: 0.3758724\ttotal: 5.05s\tremaining: 1m 26s\n",
      "11:\tlearn: 0.3727884\ttotal: 5.36s\tremaining: 1m 23s\n",
      "12:\tlearn: 0.3594582\ttotal: 5.75s\tremaining: 1m 22s\n",
      "13:\tlearn: 0.3546657\ttotal: 6.15s\tremaining: 1m 21s\n",
      "14:\tlearn: 0.3522057\ttotal: 6.52s\tremaining: 1m 20s\n",
      "15:\tlearn: 0.3494466\ttotal: 6.82s\tremaining: 1m 18s\n",
      "16:\tlearn: 0.3422392\ttotal: 7.24s\tremaining: 1m 17s\n",
      "17:\tlearn: 0.3371590\ttotal: 7.66s\tremaining: 1m 17s\n",
      "18:\tlearn: 0.3350683\ttotal: 8.05s\tremaining: 1m 16s\n",
      "19:\tlearn: 0.3340024\ttotal: 8.44s\tremaining: 1m 15s\n",
      "20:\tlearn: 0.3329662\ttotal: 8.74s\tremaining: 1m 14s\n",
      "21:\tlearn: 0.3316834\ttotal: 9.12s\tremaining: 1m 13s\n",
      "22:\tlearn: 0.3307344\ttotal: 9.46s\tremaining: 1m 12s\n",
      "23:\tlearn: 0.3290743\ttotal: 9.82s\tremaining: 1m 12s\n",
      "24:\tlearn: 0.3282771\ttotal: 10.2s\tremaining: 1m 11s\n",
      "25:\tlearn: 0.3206577\ttotal: 10.6s\tremaining: 1m 10s\n",
      "26:\tlearn: 0.3199769\ttotal: 11s\tremaining: 1m 10s\n",
      "27:\tlearn: 0.3182649\ttotal: 11.6s\tremaining: 1m 11s\n",
      "28:\tlearn: 0.3175618\ttotal: 12.2s\tremaining: 1m 11s\n",
      "29:\tlearn: 0.3169491\ttotal: 12.6s\tremaining: 1m 11s\n",
      "30:\tlearn: 0.3162092\ttotal: 13s\tremaining: 1m 10s\n",
      "31:\tlearn: 0.3157092\ttotal: 13.3s\tremaining: 1m 10s\n",
      "32:\tlearn: 0.3152177\ttotal: 13.7s\tremaining: 1m 9s\n",
      "33:\tlearn: 0.3107356\ttotal: 14.2s\tremaining: 1m 9s\n",
      "34:\tlearn: 0.3102173\ttotal: 14.5s\tremaining: 1m 8s\n",
      "35:\tlearn: 0.3078795\ttotal: 14.9s\tremaining: 1m 7s\n",
      "36:\tlearn: 0.3075611\ttotal: 15.3s\tremaining: 1m 7s\n",
      "37:\tlearn: 0.3071890\ttotal: 15.7s\tremaining: 1m 6s\n",
      "38:\tlearn: 0.3066427\ttotal: 16.1s\tremaining: 1m 6s\n",
      "39:\tlearn: 0.3053782\ttotal: 16.4s\tremaining: 1m 5s\n",
      "40:\tlearn: 0.3030603\ttotal: 16.8s\tremaining: 1m 5s\n",
      "41:\tlearn: 0.3025930\ttotal: 17.1s\tremaining: 1m 4s\n",
      "42:\tlearn: 0.3022286\ttotal: 17.5s\tremaining: 1m 3s\n",
      "43:\tlearn: 0.3012143\ttotal: 18s\tremaining: 1m 3s\n",
      "44:\tlearn: 0.3007462\ttotal: 18.3s\tremaining: 1m 3s\n",
      "45:\tlearn: 0.3003377\ttotal: 18.7s\tremaining: 1m 2s\n",
      "46:\tlearn: 0.2999700\ttotal: 19.1s\tremaining: 1m 2s\n",
      "47:\tlearn: 0.2992309\ttotal: 19.5s\tremaining: 1m 1s\n",
      "48:\tlearn: 0.2988142\ttotal: 19.8s\tremaining: 1m 1s\n",
      "49:\tlearn: 0.2985326\ttotal: 20.2s\tremaining: 1m\n",
      "50:\tlearn: 0.2982358\ttotal: 20.5s\tremaining: 1m\n",
      "51:\tlearn: 0.2980239\ttotal: 20.8s\tremaining: 59.3s\n",
      "52:\tlearn: 0.2977931\ttotal: 21.2s\tremaining: 58.8s\n",
      "53:\tlearn: 0.2974599\ttotal: 21.5s\tremaining: 58.2s\n",
      "54:\tlearn: 0.2969219\ttotal: 21.9s\tremaining: 57.7s\n",
      "55:\tlearn: 0.2966335\ttotal: 22.5s\tremaining: 57.9s\n",
      "56:\tlearn: 0.2957301\ttotal: 23.2s\tremaining: 58.3s\n",
      "57:\tlearn: 0.2954504\ttotal: 23.8s\tremaining: 58.1s\n",
      "58:\tlearn: 0.2938082\ttotal: 24.2s\tremaining: 57.8s\n",
      "59:\tlearn: 0.2935080\ttotal: 24.6s\tremaining: 57.3s\n",
      "60:\tlearn: 0.2919291\ttotal: 25s\tremaining: 56.9s\n",
      "61:\tlearn: 0.2915935\ttotal: 25.3s\tremaining: 56.4s\n",
      "62:\tlearn: 0.2912961\ttotal: 25.7s\tremaining: 55.9s\n",
      "63:\tlearn: 0.2910072\ttotal: 26s\tremaining: 55.3s\n",
      "64:\tlearn: 0.2904950\ttotal: 26.4s\tremaining: 54.9s\n",
      "65:\tlearn: 0.2902661\ttotal: 26.7s\tremaining: 54.3s\n",
      "66:\tlearn: 0.2897604\ttotal: 27.1s\tremaining: 53.8s\n",
      "67:\tlearn: 0.2892811\ttotal: 27.5s\tremaining: 53.4s\n",
      "68:\tlearn: 0.2889058\ttotal: 27.8s\tremaining: 52.8s\n",
      "69:\tlearn: 0.2880495\ttotal: 28.2s\tremaining: 52.4s\n",
      "70:\tlearn: 0.2872111\ttotal: 28.5s\tremaining: 51.8s\n",
      "71:\tlearn: 0.2867124\ttotal: 28.9s\tremaining: 51.3s\n",
      "72:\tlearn: 0.2864753\ttotal: 29.4s\tremaining: 51.1s\n",
      "73:\tlearn: 0.2854594\ttotal: 30.2s\tremaining: 51.4s\n",
      "74:\tlearn: 0.2851927\ttotal: 30.6s\tremaining: 51s\n",
      "75:\tlearn: 0.2849168\ttotal: 31s\tremaining: 50.6s\n",
      "76:\tlearn: 0.2845500\ttotal: 31.4s\tremaining: 50.1s\n",
      "77:\tlearn: 0.2843252\ttotal: 31.7s\tremaining: 49.6s\n",
      "78:\tlearn: 0.2835382\ttotal: 32s\tremaining: 49.1s\n",
      "79:\tlearn: 0.2833172\ttotal: 32.4s\tremaining: 48.6s\n",
      "80:\tlearn: 0.2830081\ttotal: 32.8s\tremaining: 48.2s\n",
      "81:\tlearn: 0.2827875\ttotal: 33.4s\tremaining: 48s\n",
      "82:\tlearn: 0.2824640\ttotal: 33.9s\tremaining: 47.8s\n",
      "83:\tlearn: 0.2820351\ttotal: 34.5s\tremaining: 47.6s\n",
      "84:\tlearn: 0.2818506\ttotal: 34.8s\tremaining: 47.1s\n",
      "85:\tlearn: 0.2815776\ttotal: 35.2s\tremaining: 46.7s\n",
      "86:\tlearn: 0.2812535\ttotal: 35.6s\tremaining: 46.2s\n",
      "87:\tlearn: 0.2809934\ttotal: 35.9s\tremaining: 45.7s\n",
      "88:\tlearn: 0.2807812\ttotal: 36.2s\tremaining: 45.2s\n",
      "89:\tlearn: 0.2802436\ttotal: 36.6s\tremaining: 44.7s\n",
      "90:\tlearn: 0.2797515\ttotal: 37s\tremaining: 44.3s\n",
      "91:\tlearn: 0.2795323\ttotal: 37.3s\tremaining: 43.8s\n",
      "92:\tlearn: 0.2787633\ttotal: 37.7s\tremaining: 43.3s\n",
      "93:\tlearn: 0.2785719\ttotal: 38s\tremaining: 42.8s\n",
      "94:\tlearn: 0.2783547\ttotal: 38.3s\tremaining: 42.4s\n",
      "95:\tlearn: 0.2781309\ttotal: 38.6s\tremaining: 41.9s\n",
      "96:\tlearn: 0.2779509\ttotal: 39s\tremaining: 41.4s\n",
      "97:\tlearn: 0.2777110\ttotal: 39.4s\tremaining: 41s\n",
      "98:\tlearn: 0.2771672\ttotal: 39.7s\tremaining: 40.5s\n",
      "99:\tlearn: 0.2769626\ttotal: 40s\tremaining: 40s\n",
      "100:\tlearn: 0.2767642\ttotal: 40.3s\tremaining: 39.5s\n",
      "101:\tlearn: 0.2765405\ttotal: 40.6s\tremaining: 39.1s\n",
      "102:\tlearn: 0.2763009\ttotal: 41s\tremaining: 38.7s\n",
      "103:\tlearn: 0.2760345\ttotal: 41.4s\tremaining: 38.2s\n",
      "104:\tlearn: 0.2758353\ttotal: 41.8s\tremaining: 37.8s\n",
      "105:\tlearn: 0.2756230\ttotal: 42.2s\tremaining: 37.4s\n",
      "106:\tlearn: 0.2750095\ttotal: 42.5s\tremaining: 36.9s\n",
      "107:\tlearn: 0.2747555\ttotal: 42.9s\tremaining: 36.6s\n",
      "108:\tlearn: 0.2746281\ttotal: 43.2s\tremaining: 36.1s\n",
      "109:\tlearn: 0.2740900\ttotal: 43.6s\tremaining: 35.7s\n",
      "110:\tlearn: 0.2737131\ttotal: 44.1s\tremaining: 35.4s\n",
      "111:\tlearn: 0.2735484\ttotal: 44.7s\tremaining: 35.1s\n",
      "112:\tlearn: 0.2733511\ttotal: 45.3s\tremaining: 34.9s\n",
      "113:\tlearn: 0.2731926\ttotal: 45.8s\tremaining: 34.6s\n",
      "114:\tlearn: 0.2730015\ttotal: 46.2s\tremaining: 34.1s\n",
      "115:\tlearn: 0.2728236\ttotal: 46.5s\tremaining: 33.7s\n",
      "116:\tlearn: 0.2726750\ttotal: 46.8s\tremaining: 33.2s\n",
      "117:\tlearn: 0.2723927\ttotal: 47.2s\tremaining: 32.8s\n",
      "118:\tlearn: 0.2722447\ttotal: 47.5s\tremaining: 32.4s\n",
      "119:\tlearn: 0.2720446\ttotal: 47.9s\tremaining: 32s\n",
      "120:\tlearn: 0.2718639\ttotal: 48.3s\tremaining: 31.5s\n",
      "121:\tlearn: 0.2717088\ttotal: 48.6s\tremaining: 31.1s\n",
      "122:\tlearn: 0.2715368\ttotal: 48.9s\tremaining: 30.6s\n",
      "123:\tlearn: 0.2713807\ttotal: 49.2s\tremaining: 30.1s\n",
      "124:\tlearn: 0.2711653\ttotal: 49.6s\tremaining: 29.7s\n",
      "125:\tlearn: 0.2710339\ttotal: 49.9s\tremaining: 29.3s\n",
      "126:\tlearn: 0.2708751\ttotal: 50.2s\tremaining: 28.9s\n",
      "127:\tlearn: 0.2706974\ttotal: 50.6s\tremaining: 28.4s\n",
      "128:\tlearn: 0.2698888\ttotal: 51s\tremaining: 28.1s\n",
      "129:\tlearn: 0.2697395\ttotal: 51.3s\tremaining: 27.6s\n",
      "130:\tlearn: 0.2695474\ttotal: 51.6s\tremaining: 27.2s\n",
      "131:\tlearn: 0.2693430\ttotal: 52s\tremaining: 26.8s\n",
      "132:\tlearn: 0.2691807\ttotal: 52.4s\tremaining: 26.4s\n",
      "133:\tlearn: 0.2689999\ttotal: 52.7s\tremaining: 26s\n",
      "134:\tlearn: 0.2687885\ttotal: 53.1s\tremaining: 25.6s\n",
      "135:\tlearn: 0.2686615\ttotal: 53.3s\tremaining: 25.1s\n",
      "136:\tlearn: 0.2684953\ttotal: 53.7s\tremaining: 24.7s\n",
      "137:\tlearn: 0.2683221\ttotal: 54s\tremaining: 24.3s\n",
      "138:\tlearn: 0.2681554\ttotal: 54.4s\tremaining: 23.9s\n",
      "139:\tlearn: 0.2680374\ttotal: 54.7s\tremaining: 23.5s\n",
      "140:\tlearn: 0.2678780\ttotal: 55.2s\tremaining: 23.1s\n",
      "141:\tlearn: 0.2675984\ttotal: 55.8s\tremaining: 22.8s\n",
      "142:\tlearn: 0.2674181\ttotal: 56.4s\tremaining: 22.5s\n",
      "143:\tlearn: 0.2672581\ttotal: 56.8s\tremaining: 22.1s\n",
      "144:\tlearn: 0.2671243\ttotal: 57.2s\tremaining: 21.7s\n",
      "145:\tlearn: 0.2669872\ttotal: 57.5s\tremaining: 21.3s\n",
      "146:\tlearn: 0.2667012\ttotal: 57.9s\tremaining: 20.9s\n",
      "147:\tlearn: 0.2665692\ttotal: 58.3s\tremaining: 20.5s\n",
      "148:\tlearn: 0.2664172\ttotal: 58.6s\tremaining: 20.1s\n",
      "149:\tlearn: 0.2662158\ttotal: 59s\tremaining: 19.7s\n",
      "150:\tlearn: 0.2660226\ttotal: 59.4s\tremaining: 19.3s\n",
      "151:\tlearn: 0.2658422\ttotal: 59.8s\tremaining: 18.9s\n",
      "152:\tlearn: 0.2657446\ttotal: 1m\tremaining: 18.5s\n",
      "153:\tlearn: 0.2655714\ttotal: 1m\tremaining: 18.1s\n",
      "154:\tlearn: 0.2651176\ttotal: 1m\tremaining: 17.7s\n",
      "155:\tlearn: 0.2649647\ttotal: 1m 1s\tremaining: 17.4s\n",
      "156:\tlearn: 0.2647637\ttotal: 1m 2s\tremaining: 17s\n",
      "157:\tlearn: 0.2646085\ttotal: 1m 2s\tremaining: 16.6s\n",
      "158:\tlearn: 0.2644506\ttotal: 1m 2s\tremaining: 16.2s\n",
      "159:\tlearn: 0.2643019\ttotal: 1m 3s\tremaining: 15.8s\n",
      "160:\tlearn: 0.2638672\ttotal: 1m 3s\tremaining: 15.4s\n",
      "161:\tlearn: 0.2637045\ttotal: 1m 3s\tremaining: 15s\n",
      "162:\tlearn: 0.2635787\ttotal: 1m 4s\tremaining: 14.6s\n",
      "163:\tlearn: 0.2634213\ttotal: 1m 4s\tremaining: 14.2s\n",
      "164:\tlearn: 0.2632671\ttotal: 1m 5s\tremaining: 13.8s\n",
      "165:\tlearn: 0.2631305\ttotal: 1m 5s\tremaining: 13.4s\n",
      "166:\tlearn: 0.2629424\ttotal: 1m 5s\tremaining: 13s\n",
      "167:\tlearn: 0.2625411\ttotal: 1m 6s\tremaining: 12.6s\n",
      "168:\tlearn: 0.2624210\ttotal: 1m 6s\tremaining: 12.3s\n",
      "169:\tlearn: 0.2622558\ttotal: 1m 7s\tremaining: 11.9s\n",
      "170:\tlearn: 0.2621006\ttotal: 1m 7s\tremaining: 11.5s\n",
      "171:\tlearn: 0.2618756\ttotal: 1m 8s\tremaining: 11.1s\n",
      "172:\tlearn: 0.2617396\ttotal: 1m 8s\tremaining: 10.7s\n",
      "173:\tlearn: 0.2615813\ttotal: 1m 8s\tremaining: 10.3s\n",
      "174:\tlearn: 0.2614074\ttotal: 1m 9s\tremaining: 9.91s\n",
      "175:\tlearn: 0.2612531\ttotal: 1m 9s\tremaining: 9.51s\n",
      "176:\tlearn: 0.2610916\ttotal: 1m 10s\tremaining: 9.11s\n",
      "177:\tlearn: 0.2610161\ttotal: 1m 10s\tremaining: 8.7s\n",
      "178:\tlearn: 0.2608644\ttotal: 1m 10s\tremaining: 8.29s\n",
      "179:\tlearn: 0.2607386\ttotal: 1m 11s\tremaining: 7.89s\n",
      "180:\tlearn: 0.2606180\ttotal: 1m 11s\tremaining: 7.49s\n",
      "181:\tlearn: 0.2604700\ttotal: 1m 11s\tremaining: 7.09s\n",
      "182:\tlearn: 0.2602997\ttotal: 1m 12s\tremaining: 6.69s\n",
      "183:\tlearn: 0.2601166\ttotal: 1m 12s\tremaining: 6.3s\n",
      "184:\tlearn: 0.2599281\ttotal: 1m 12s\tremaining: 5.91s\n",
      "185:\tlearn: 0.2597258\ttotal: 1m 13s\tremaining: 5.51s\n",
      "186:\tlearn: 0.2596175\ttotal: 1m 13s\tremaining: 5.11s\n",
      "187:\tlearn: 0.2595336\ttotal: 1m 13s\tremaining: 4.71s\n",
      "188:\tlearn: 0.2593801\ttotal: 1m 14s\tremaining: 4.32s\n",
      "189:\tlearn: 0.2592969\ttotal: 1m 14s\tremaining: 3.92s\n",
      "190:\tlearn: 0.2591718\ttotal: 1m 14s\tremaining: 3.52s\n",
      "191:\tlearn: 0.2590721\ttotal: 1m 15s\tremaining: 3.13s\n",
      "192:\tlearn: 0.2589572\ttotal: 1m 15s\tremaining: 2.73s\n",
      "193:\tlearn: 0.2588208\ttotal: 1m 15s\tremaining: 2.34s\n",
      "194:\tlearn: 0.2587310\ttotal: 1m 16s\tremaining: 1.95s\n",
      "195:\tlearn: 0.2586005\ttotal: 1m 16s\tremaining: 1.56s\n",
      "196:\tlearn: 0.2585024\ttotal: 1m 16s\tremaining: 1.17s\n",
      "197:\tlearn: 0.2583809\ttotal: 1m 17s\tremaining: 781ms\n",
      "198:\tlearn: 0.2582603\ttotal: 1m 17s\tremaining: 392ms\n",
      "199:\tlearn: 0.2581096\ttotal: 1m 18s\tremaining: 0us\n"
     ]
    },
    {
     "data": {
      "text/plain": [
       "0.9558278921034733"
      ]
     },
     "execution_count": 50,
     "metadata": {},
     "output_type": "execute_result"
    }
   ],
   "source": [
    "cb_model_2 = CatBoostClassifier(iterations = 200, learning_rate = 0.2, depth = 6, \n",
    "                              loss_function = 'CrossEntropy')\n",
    "cb_model_2.fit(X_train, y_train, cat_cols)\n",
    "\n",
    "preds = cb_model_2.predict_proba(X_train)\n",
    "roc = roc_auc_score(y_train, preds[:,1])\n",
    "roc"
   ]
  },
  {
   "cell_type": "code",
   "execution_count": 51,
   "metadata": {
    "execution": {
     "iopub.execute_input": "2021-02-21T19:24:46.218015Z",
     "iopub.status.busy": "2021-02-21T19:24:46.217130Z",
     "iopub.status.idle": "2021-02-21T19:24:46.414340Z",
     "shell.execute_reply": "2021-02-21T19:24:46.413751Z"
    },
    "papermill": {
     "duration": 0.354488,
     "end_time": "2021-02-21T19:24:46.414520",
     "exception": false,
     "start_time": "2021-02-21T19:24:46.060032",
     "status": "completed"
    },
    "tags": []
   },
   "outputs": [],
   "source": [
    "unlabeled = pd.read_csv(\"/kaggle/input/widsdatathon2021/UnlabeledWiDS2021.csv\")"
   ]
  },
  {
   "cell_type": "code",
   "execution_count": 52,
   "metadata": {
    "execution": {
     "iopub.execute_input": "2021-02-21T19:24:46.731099Z",
     "iopub.status.busy": "2021-02-21T19:24:46.725955Z",
     "iopub.status.idle": "2021-02-21T19:24:47.187726Z",
     "shell.execute_reply": "2021-02-21T19:24:47.186489Z"
    },
    "papermill": {
     "duration": 0.632845,
     "end_time": "2021-02-21T19:24:47.187893",
     "exception": false,
     "start_time": "2021-02-21T19:24:46.555048",
     "status": "completed"
    },
    "tags": []
   },
   "outputs": [],
   "source": [
    "pd.DataFrame({'encounter_id':unlabeled['encounter_id'].values,\n",
    "    'diabetes_mellitus':cb_model_2.predict_proba(X_test)[:,1]}).to_csv('/kaggle/working/Predictions1.csv',\n",
    "                                                                   index=False)"
   ]
  },
  {
   "cell_type": "code",
   "execution_count": null,
   "metadata": {
    "papermill": {
     "duration": 0.143498,
     "end_time": "2021-02-21T19:24:47.484648",
     "exception": false,
     "start_time": "2021-02-21T19:24:47.341150",
     "status": "completed"
    },
    "tags": []
   },
   "outputs": [],
   "source": []
  }
 ],
 "metadata": {
  "kernelspec": {
   "display_name": "Python 3",
   "language": "python",
   "name": "python3"
  },
  "language_info": {
   "codemirror_mode": {
    "name": "ipython",
    "version": 3
   },
   "file_extension": ".py",
   "mimetype": "text/x-python",
   "name": "python",
   "nbconvert_exporter": "python",
   "pygments_lexer": "ipython3",
   "version": "3.7.9"
  },
  "papermill": {
   "default_parameters": {},
   "duration": 907.202996,
   "end_time": "2021-02-21T19:24:48.342202",
   "environment_variables": {},
   "exception": null,
   "input_path": "__notebook__.ipynb",
   "output_path": "__notebook__.ipynb",
   "parameters": {},
   "start_time": "2021-02-21T19:09:41.139206",
   "version": "2.2.2"
  }
 },
 "nbformat": 4,
 "nbformat_minor": 4
}
